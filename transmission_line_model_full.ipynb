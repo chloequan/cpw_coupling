{
 "cells": [
  {
   "cell_type": "code",
   "execution_count": 1,
   "metadata": {
    "ExecuteTime": {
     "end_time": "2019-05-14T13:47:51.412589Z",
     "start_time": "2019-05-14T13:47:46.643253Z"
    }
   },
   "outputs": [
    {
     "data": {
      "text/plain": [
       "<module 'coplanar_coupler' from 'C:\\\\Documents-cloud\\\\qubits\\\\simulation\\\\coupling_paper\\\\cpw_coupling\\\\coplanar_coupler.py'>"
      ]
     },
     "execution_count": 1,
     "metadata": {},
     "output_type": "execute_result"
    }
   ],
   "source": [
    "from transmission_line_simulator import *\n",
    "from coplanar_coupler import *\n",
    "import coplanar_coupler\n",
    "import scipy.constants\n",
    "import sympy\n",
    "import scipy.optimize\n",
    "import imp\n",
    "imp.reload(coplanar_coupler)"
   ]
  },
  {
   "cell_type": "markdown",
   "metadata": {},
   "source": [
    "# transmission line circuit topology"
   ]
  },
  {
   "cell_type": "code",
   "execution_count": 6,
   "metadata": {
    "ExecuteTime": {
     "end_time": "2019-05-14T13:47:51.462483Z",
     "start_time": "2019-05-14T13:47:51.432519Z"
    }
   },
   "outputs": [],
   "source": [
    "claw = capacitor()\n",
    "qubit_cap = capacitor()\n",
    "qubit_inductor = inductor()\n",
    "#L = inductor()\n",
    "source = port()\n",
    "#source_feedline = transmission_line()\n",
    "analyzer_feedline = transmission_line_coupler(n=1)\n",
    "analyzer = port()\n",
    "\n",
    "GND = short()\n",
    "resonator_short_end = transmission_line_coupler(n=1)\n",
    "resonator_claw_end = transmission_line_coupler(n=1)#\n",
    "coupler = transmission_line_coupler()\n",
    "res = resistor()\n",
    "\n",
    "circuit = transmission_line_system()\n",
    "circuit.add_element(coupler, [1, 2, 3, 4])\n",
    "circuit.add_element(source, [1])\n",
    "circuit.add_element(analyzer_feedline, [3, 8])\n",
    "circuit.add_element(analyzer, [8])\n",
    "circuit.add_element(resonator_short_end, [4, 0])\n",
    "#circuit.add_element(res, [7, 0])\n",
    "circuit.add_element(resonator_claw_end, [2, 6])\n",
    "#circuit.add_element(claw, [6, 7])\n",
    "#circuit.add_element(qubit_cap, [7, 0])\n",
    "#circuit.add_element(qubit_inductor, [7, 0])\n",
    "circuit.add_element(GND, [0])"
   ]
  },
  {
   "cell_type": "markdown",
   "metadata": {},
   "source": [
    "# symbolic system parameters"
   ]
  },
  {
   "cell_type": "code",
   "execution_count": 7,
   "metadata": {
    "ExecuteTime": {
     "end_time": "2019-05-14T13:47:51.968574Z",
     "start_time": "2019-05-14T13:47:51.486379Z"
    }
   },
   "outputs": [],
   "source": [
    "c_l =sympy.Symbol('c_l', real=True, positive=True)\n",
    "Zi = sympy.Symbol('Z_i', real=True, positive=True)\n",
    "Zo = sympy.Symbol('Z_o', real=True, positive=True)\n",
    "Zf = sympy.Symbol('Z_f', real=True, positive=True)\n",
    "Za = sympy.Symbol('Z_a', real=True, positive=True)\n",
    "Zr = sympy.Symbol('Z_r', real=True, positive=True)\n",
    "l_f = sympy.Symbol('l_f', real=True, positive=True) # feedline residual length\n",
    "C_c =sympy.Symbol('C_c', real=True, positive=True)\n",
    "l_s = sympy.Symbol('l_s', real=True, positive=True)\n",
    "l_o = sympy.Symbol('l_o', real=True, positive=True)\n",
    "l_c = sympy.Symbol('l_c', real=True, positive=True)\n",
    "Z1 = sympy.Symbol('Z1', real=True, positive=True)\n",
    "Z2 = sympy.Symbol('Z2', real=True, positive=True)\n",
    "kappa = sympy.Symbol('\\\\kappa', real=True, positive=True)\n",
    "#gamma = sympy.sqrt(sympy.nsimplify(1)-kappa*kappa)\n",
    "gamma = sympy.Symbol('\\\\gamma', real=True, positive=True)\n",
    "R = sympy.Symbol('R', real=True, positive=True)\n",
    "omega = sympy.Symbol('\\\\omega')\n",
    "domega = sympy.Symbol('\\\\Delta\\\\omega')\n",
    "\n",
    "Lq = sympy.Symbol('L_q', positive=True)\n",
    "Cq = sympy.Symbol('C_q', positive=True)\n",
    "\n",
    "qubit_cap.C = Cq\n",
    "qubit_inductor.L = Lq\n",
    "\n",
    "coupler.l = l_c\n",
    "coupler.Ll = sympy.Matrix([[(Z1*gamma)/c_l, kappa*gamma*sympy.sqrt(Z1)*sympy.sqrt(Z2)/c_l], \\\n",
    "                           [kappa*gamma*sympy.sqrt(Z1)*sympy.sqrt(Z2)/c_l, (Z2*gamma)/c_l]])\n",
    "coupler.Cl = coupler.Ll.inv()/(c_l**2)\n",
    "coupler.Rl = np.zeros(coupler.Ll.shape, dtype=np.int)\n",
    "coupler.Gl = np.zeros(coupler.Ll.shape, dtype=np.int)\n",
    "\n",
    "source.Z0 = Zi\n",
    "analyzer.Z0 = Zo\n",
    "\n",
    "res.R = R\n",
    "\n",
    "analyzer_feedline.l = l_f\n",
    "analyzer_feedline.Cl = sympy.Matrix([[1/(c_l*Za)]])\n",
    "analyzer_feedline.Ll = sympy.Matrix([[Za/c_l]])\n",
    "analyzer_feedline.Rl = sympy.Matrix([[0]])\n",
    "analyzer_feedline.Gl = sympy.Matrix([[0]])\n",
    "\n",
    "resonator_short_end.l = l_s\n",
    "resonator_short_end.Cl = sympy.Matrix([[1/(c_l*Zr)]])\n",
    "resonator_short_end.Ll = sympy.Matrix([[Zr/c_l]])\n",
    "resonator_short_end.Rl = sympy.Matrix([[0]])\n",
    "resonator_short_end.Gl = sympy.Matrix([[0]])\n",
    "resonator_claw_end.l = l_o\n",
    "resonator_claw_end.Cl = sympy.Matrix([[1/(c_l*Zr)]])\n",
    "resonator_claw_end.Ll = sympy.Matrix([[Zr/c_l]])\n",
    "resonator_claw_end.Rl = sympy.Matrix([[0]])\n",
    "resonator_claw_end.Gl = sympy.Matrix([[0]])\n",
    "claw.C = C_c"
   ]
  },
  {
   "cell_type": "markdown",
   "metadata": {},
   "source": [
    "# creating boundary problem matrix"
   ]
  },
  {
   "cell_type": "code",
   "execution_count": 8,
   "metadata": {
    "ExecuteTime": {
     "end_time": "2019-05-14T13:47:53.340223Z",
     "start_time": "2019-05-14T13:47:51.987803Z"
    }
   },
   "outputs": [
    {
     "data": {
      "text/plain": [
       "array([[1, 0, 0, ..., 0, 0, 0],\n",
       "       [0, 1, 0, ..., 0, 0, 0],\n",
       "       [0, 0, 1, ..., 0, 0, 0],\n",
       "       ...,\n",
       "       [0, 0, 0, ..., 0, 0, 0],\n",
       "       [0, 0, 0, ..., 0, 0, 0],\n",
       "       [0, 0, 0, ..., 0, 0, 0]], dtype=object)"
      ]
     },
     "execution_count": 8,
     "metadata": {},
     "output_type": "execute_result"
    }
   ],
   "source": [
    "boundary_problem = circuit.create_boundary_problem_matrix(sympy.Symbol('\\\\omega'))\n",
    "for i in range(boundary_problem.shape[0]):\n",
    "    for j in range(boundary_problem.shape[1]):\n",
    "        boundary_problem[i,j] = sympy.nsimplify(boundary_problem[i,j]).xreplace({gamma:sympy.sqrt(sympy.nsimplify(1)-kappa*kappa)})\n",
    "boundary_problem"
   ]
  },
  {
   "cell_type": "markdown",
   "metadata": {},
   "source": [
    "# Expanding determinant to first order (this can take > 1 hour)"
   ]
  },
  {
   "cell_type": "code",
   "execution_count": 9,
   "metadata": {
    "ExecuteTime": {
     "end_time": "2019-05-14T14:06:19.077913Z",
     "start_time": "2019-05-14T13:48:30.795483Z"
    }
   },
   "outputs": [
    {
     "name": "stdout",
     "output_type": "stream",
     "text": [
      "Ml len 1\n",
      "Odl len 10\n",
      "Mdl len 4\n",
      "Mddl len 16\n",
      "Z1dl len 4\n",
      "Z2dl len 4\n",
      "Cdl len 0\n",
      "MdCdl len 0\n",
      "MddCdl len 0\n",
      "Rdl len 0\n",
      "matrix lists len 39\n",
      "xreplace time:  0.7379946708679199\n",
      "list size  1  deteminant time  11.218034029006958\n",
      "list size  10  deteminant time  86.75410413742065\n",
      "list size  4  deteminant time  6.095700740814209\n",
      "list size  16  deteminant time  52.75194001197815\n",
      "list size  4  deteminant time  17.76048254966736\n",
      "list size  4  deteminant time  29.510931730270386\n",
      "list size  0  deteminant time  0.0009961128234863281\n",
      "list size  0  deteminant time  0.0\n",
      "list size  0  deteminant time  0.0\n",
      "list size  0  deteminant time  0.0\n",
      "expression term simplified in  0.0\n",
      "expression term simplified in  0.0\n",
      "expression term simplified in  0.0010068416595458984\n",
      "expression term simplified in  0.0\n",
      "expression term simplified in  0.0009882450103759766\n",
      "expression term simplified in  0.0\n",
      "expression term simplified in  0.0\n",
      "expression term simplified in  0.0\n",
      "expression term simplified in  0.0009965896606445312\n",
      "expression term simplified in  0.0\n"
     ]
    }
   ],
   "source": [
    "# M1 = sympy.Matrix(boundary_problem)\n",
    "#for i in range(boundary_problem.shape[0]):\n",
    "#    for j in range(boundary_problem.shape[1]):\n",
    "#        M1[i,j] = M1[i,j].subs({M:0, Z1:Z0, Z2:Zr})\n",
    "#\n",
    "#circuit.matrix_reduce(M1)\n",
    "subs = {kappa:sympy.nsimplify(0), Z1:Zf, Z2:Zr, C_c:sympy.nsimplify(0), R:sympy.nsimplify(0)}\n",
    "Ml = [sympy.Matrix(boundary_problem)] \n",
    "print ('Ml len', len(Ml))\n",
    "Odl = matrix_list_determinant_derivative(Ml, sympy.Symbol('\\\\omega'))\n",
    "print ('Odl len', len(Odl))\n",
    "Mdl = matrix_list_determinant_derivative(Ml, kappa)\n",
    "print ('Mdl len', len(Mdl))\n",
    "Mddl = matrix_list_determinant_derivative(Mdl, kappa)\n",
    "print ('Mddl len', len(Mddl))\n",
    "Z1dl = matrix_list_determinant_derivative(Ml, Z1)\n",
    "print ('Z1dl len', len(Z1dl))\n",
    "Z2dl = matrix_list_determinant_derivative(Ml, Z2)\n",
    "print ('Z2dl len', len(Z2dl))\n",
    "Cdl = matrix_list_determinant_derivative(Ml, C_c)\n",
    "print ('Cdl len', len(Cdl))\n",
    "MdCdl = matrix_list_determinant_derivative(Cdl, kappa)\n",
    "print ('MdCdl len', len(MdCdl))\n",
    "MddCdl = matrix_list_determinant_derivative(MdCdl, kappa)\n",
    "print ('MddCdl len', len(MddCdl))\n",
    "Rdl = matrix_list_determinant_derivative(Ml, R)\n",
    "print ('Rdl len', len(Rdl))\n",
    "\n",
    "matrix_lists = [Ml, Odl, Mdl, Mddl, Z1dl, Z2dl, Cdl, MdCdl, MddCdl, Rdl]\n",
    "#matrix_lists = [Ml, Mdl, Z1dl, Z2dl]\n",
    "factors = [sympy.ones(1)[0], domega, kappa, kappa**2/sympy.nsimplify(2), \n",
    "           Z1-Zf, Z2-Zr, C_c, C_c*kappa/2, C_c*kappa**2/4, R]\n",
    "derivatives = []\n",
    "#matrix_lists = [Ml, Mdl, Z1dl, Z2dl, Cdl]\n",
    "#factors = [sympy.ones(1)[0], M, Z1-Z0, Z2-Z0, C_c]\n",
    "\n",
    "print('matrix lists len', sum(len(m) for m in matrix_lists))\n",
    "import time\n",
    "begin=time.time()\n",
    "matrix_lists_point = [matrix_list_subs(Ms, subs) for Ms in matrix_lists]\n",
    "print('xreplace time: ', time.time()-begin)\n",
    "determinants = []\n",
    "for Ms in matrix_lists_point:\n",
    "    begin = time.time()\n",
    "    determinants.append(sympy.simplify(sympy.ratsimp(matrix_list_determinant(Ms))))\n",
    "    print('list size ', len(Ms), ' deteminant time ', time.time()-begin)\n",
    "expression_terms = []\n",
    "for d,f in zip(determinants, factors):\n",
    "    begin = time.time()\n",
    "    expression_terms.append(d*f)\n",
    "    print('expression term simplified in ', time.time()-begin)\n",
    "determinant = sum(expression_terms)\n",
    "\n",
    "expression_terms_dict = {symbol: derivative for symbol, derivative in zip(factors, determinants)}"
   ]
  },
  {
   "cell_type": "markdown",
   "metadata": {},
   "source": [
    "## save expansion results to pickle"
   ]
  },
  {
   "cell_type": "code",
   "execution_count": null,
   "metadata": {
    "ExecuteTime": {
     "end_time": "2019-05-14T14:06:37.667190Z",
     "start_time": "2019-05-14T14:06:37.626297Z"
    }
   },
   "outputs": [],
   "source": [
    "import pickle\n",
    "f = open('transmission_line_model_with_feedline_full_short_open_symbolic.pkl', 'wb')\n",
    "pickle.dump(expression_terms, f)\n",
    "pickle.dump(determinant, f)\n",
    "pickle.dump(subs, f)\n",
    "pickle.dump(expression_terms_dict, f)\n",
    "f.close()"
   ]
  },
  {
   "cell_type": "markdown",
   "metadata": {},
   "source": [
    "## load expansion results from pickle"
   ]
  },
  {
   "cell_type": "code",
   "execution_count": null,
   "metadata": {
    "ExecuteTime": {
     "end_time": "2019-05-14T14:06:56.762138Z",
     "start_time": "2019-05-14T14:06:55.191335Z"
    }
   },
   "outputs": [],
   "source": [
    "import pickle\n",
    "f = open('transmission_line_model_with_feedline_full_short_open_symbolic.pkl', 'rb')\n",
    "expression_terms = pickle.load(f)\n",
    "determinant = pickle.load(f)\n",
    "subs = pickle.load(f)\n",
    "expression_terms_dict = pickle.load(f)"
   ]
  },
  {
   "cell_type": "markdown",
   "metadata": {},
   "source": [
    "# Zero-th order solution to the determinant"
   ]
  },
  {
   "cell_type": "code",
   "execution_count": null,
   "metadata": {
    "ExecuteTime": {
     "end_time": "2019-05-14T14:07:22.822827Z",
     "start_time": "2019-05-14T14:07:15.527962Z"
    }
   },
   "outputs": [],
   "source": [
    "zeroth_order_determinant = sympy.factor(sympy.simplify(determinant.xreplace(subs).xreplace({domega:sympy.nsimplify(0)})))\n",
    "zeroth_order_determinant\n",
    "#repr(zeroth_order_determinant)"
   ]
  },
  {
   "cell_type": "raw",
   "metadata": {
    "ExecuteTime": {
     "end_time": "2019-05-14T13:48:28.144432Z",
     "start_time": "2019-05-14T13:48:24.632Z"
    },
    "scrolled": true
   },
   "source": [
    "zeroth_order_solution = sympy.solveset(zeroth_order_determinant, sympy.Symbol('\\\\omega'))\n",
    "zeroth_order_solution"
   ]
  },
  {
   "cell_type": "markdown",
   "metadata": {},
   "source": [
    "# substituting n-th order of $\\lamdba/4$ resonator"
   ]
  },
  {
   "cell_type": "code",
   "execution_count": null,
   "metadata": {
    "ExecuteTime": {
     "end_time": "2019-05-14T14:08:32.714073Z",
     "start_time": "2019-05-14T14:07:42.153119Z"
    },
    "scrolled": true
   },
   "outputs": [],
   "source": [
    "n= sympy.Symbol('n', integer=True, Integer=True)\n",
    "zeroth_order_solution = sympy.pi*c_l/(sympy.nsimplify(2.0)*(l_c+l_o+l_s))*(sympy.nsimplify(2)*n-sympy.nsimplify(1))\n",
    "#zeroth_order_solution = sympy.pi*c_l/(sympy.nsimplify(2.0)*(l_c+l_o+l_s))*(sympy.nsimplify(2)*n)\n",
    "\n",
    "correction_term_keys = [k for k in expression_terms_dict.keys() if not k.is_Number and k is not domega]\n",
    "correction_term_dict = {}\n",
    "correction_term_dict_nof = {}\n",
    "\n",
    "correction_term_freq = expression_terms_dict[domega].xreplace({omega:zeroth_order_solution})\n",
    "correction_term_freq_nof = expression_terms_dict[domega].xreplace({omega:zeroth_order_solution})\n",
    "\n",
    "frequency_shift_dict = {}\n",
    "frequency_shift_dict_simp = {}\n",
    "frequency_shift_dict_simp_nof = {}\n",
    "frequency_shift_dict_nof = {}\n",
    "decay_rate_dict = {}\n",
    "\n",
    "_l_c = sympy.Symbol('\\\\lambda_c', positive=True)\n",
    "_l_o = sympy.Symbol('\\\\lambda_o', positive=True)\n",
    "_l_s = sympy.Symbol('\\\\lambda_s', positive=True)\n",
    "_l_f = sympy.Symbol('\\\\lambda_f', positive=True)\n",
    "lambda_subs = {l_c:_l_c*(l_s+l_o+l_c), \\\n",
    "               l_o:_l_o*(l_s+l_o+l_c), \\\n",
    "               l_f:_l_f*(l_s+l_o+l_c), \\\n",
    "               l_s:(1-_l_c-_l_o)*(l_s+l_o+l_c)}\n",
    "\n",
    "def crawl(expr, func, *args, **kwargs):\n",
    "    \"\"\"Crawl the expression tree, and apply func to every node.\"\"\"\n",
    "    val = func(expr, *args, **kwargs)\n",
    "    if val is not None:\n",
    "        #print (val)\n",
    "        return val\n",
    "    new_args = [crawl(arg, func, *args, **kwargs) for arg in expr.args]\n",
    "    if len(new_args):\n",
    "        #print (expr.func, new_args)\n",
    "        return expr.func(*new_args)\n",
    "    return expr\n",
    "\n",
    "def expsimplifier(expr):\n",
    "    def try_trigsimp(expr):\n",
    "        as_trig = sympy.simplify(expr.rewrite(sympy.cos))\n",
    "        #print (as_trig, expr)\n",
    "        if sympy.count_ops(as_trig) < sympy.count_ops(expr):\n",
    "            return as_trig\n",
    "        else:\n",
    "            return expr\n",
    "    if expr.func is sympy.exp:\n",
    "        args_simplified = [sympy.factor(sympy.cancel(arg)) for arg in expr.args]\n",
    "        #print (args_simplified)\n",
    "        result = sympy.factor(sympy.simplify(expr.func(*args_simplified)))\n",
    "        #print (result, type(result))\n",
    "        if result.func is sympy.Mul:\n",
    "            new_result_args = []\n",
    "            for factor in result.args:\n",
    "                new_result_args.append(try_trigsimp(factor))\n",
    "                result = sympy.Mul(*new_result_args)\n",
    "        elif result.func is sympy.exp:\n",
    "            result = try_trigsimp(result)\n",
    "        return result\n",
    "\n",
    "def trig_se(expr):\n",
    "    se = []\n",
    "    def add_trig_monomial(expr):\n",
    "        if expr.func is sympy.sin or expr.func is sympy.cos:\n",
    "            # simlify arguments\n",
    "            simplified_expr = expr.func(sympy.expand(expr.args[0]))\n",
    "            if simplified_expr not in se:\n",
    "                se.append(simplified_expr)\n",
    "    crawl(expr, add_trig_monomial)\n",
    "    return se\n",
    "\n",
    "def trigargs_simp(expr):\n",
    "    if expr.func is sympy.sin or expr.func is sympy.cos:\n",
    "        return expr.func(sympy.expand(expr.args[0]))\n",
    "    \n",
    "def trigargs_simp_full(expr):\n",
    "    if expr.func is sympy.sin or expr.func is sympy.cos:\n",
    "        return expr.func(sympy.simplify(expr.args[0]))\n",
    "    \n",
    "k_r = sympy.Symbol('k_r', positive=True)\n",
    "l_r = l_o+l_s+l_c\n",
    "expargsimp = lambda expr: crawl(expr, expsimplifier)\n",
    "trigargsimp = lambda expr: crawl(expr, trigargs_simp)\n",
    "trigargsimp_full = lambda expr: crawl(expr, trigargs_simp_full)\n",
    "correction_term_freq = trigargsimp(sympy.powsimp(sympy.expand(expargsimp(correction_term_freq.xreplace(lambda_subs)).xreplace({l_r:1/k_r}))).rewrite(sympy.cos))\n",
    "trig_ses = trig_se(correction_term_freq)\n",
    "se_subs = {k:v for k,v in zip(trig_ses, sympy.symbols('t0:%d'%len(trig_ses)))}\n",
    "se_subs_inv = {v:k for k,v in zip(trig_ses, sympy.symbols('t0:%d'%len(trig_ses)))}\n",
    "frequency_correction_rel_lambda_collected = sympy.collect(sympy.expand(correction_term_freq.xreplace(se_subs)), [k for k in se_subs_inv.keys()], evaluate=False)\n",
    "correction_term_freq = sympy.factor(sympy.Add(*[se_subs_inv[k]*sympy.factor(v) for k,v in frequency_correction_rel_lambda_collected.items()]))\n",
    "correction_term_freq_nof = correction_term_freq.xreplace({_l_f:0})\n"
   ]
  },
  {
   "cell_type": "code",
   "execution_count": null,
   "metadata": {
    "ExecuteTime": {
     "end_time": "2019-05-14T14:09:00.722169Z",
     "start_time": "2019-05-14T14:08:49.551011Z"
    }
   },
   "outputs": [],
   "source": [
    "phi = sympy.Symbol('\\\\phi', positive=True)\n",
    "theta = sympy.Symbol('\\\\theta', positive=True)\n",
    "psi =sympy.Symbol('\\\\psi', positive=True)\n",
    "Omega = sympy.Symbol('\\\\Omega', positive=True)\n",
    "\n",
    "# lambda half resonators\n",
    "#ang_subs = {_l_c:theta/(sympy.pi*n), _l_o:(phi-theta*sympy.nsimplify(0.5))/(sympy.pi*n)}\n",
    "#inv_ang_subs = {theta:sympy.pi*n*_l_c, phi:sympy.pi*n*(_l_o+_l_c*sympy.nsimplify(0.5)), \\\n",
    "#                psi:sympy.pi*n*(_l_o+_l_c*sympy.nsimplify(0.5))*sympy.nsimplify(2.) }\n",
    "\n",
    "#lambda quarter resonator\n",
    "ang_subs = {_l_c:theta/(sympy.pi*(n-sympy.nsimplify(0.5))), \n",
    "            _l_o:(phi-theta*sympy.nsimplify(0.5))/(sympy.pi*(n-sympy.nsimplify(0.5))),\n",
    "            _l_f:Omega/(sympy.pi*(n-sympy.nsimplify(0.5)))}\n",
    "inv_ang_subs = {theta:sympy.pi*(n-sympy.nsimplify(0.5))*_l_c, \n",
    "                  phi:sympy.pi*(n-sympy.nsimplify(0.5))*(_l_o+_l_c*sympy.nsimplify(0.5)), \n",
    "                  psi:sympy.pi*(n-sympy.nsimplify(0.5))*(_l_o+_l_c*sympy.nsimplify(0.5))*sympy.nsimplify(2.),\n",
    "                Omega:sympy.pi*(n-sympy.nsimplify(0.5))*_l_f }\n",
    "\n",
    "#_l_c_subs = {_l_c:1-_l_s-_l_o}\n",
    "#ang_subs = {_l_c:theta/(sympy.pi*(n-sympy.nsimplify(0.5))), _l_o:phi/(sympy.pi*(n-sympy.nsimplify(0.5)))}\n",
    "#inv_ang_subs = {theta:sympy.pi*(n-sympy.nsimplify(0.5))*_l_c, phi:sympy.pi*(n-sympy.nsimplify(0.5))*_l_o, \\\n",
    "#               psi:sympy.pi*(n-sympy.nsimplify(0.5))*_l_o*sympy.nsimplify(2.) }\n",
    "\n",
    "hints=[sympy.sin(theta/2), sympy.cos(theta/2), sympy.sin(phi), sympy.cos(phi)]\n",
    "ang_subs_corr_term = sympy.trigsimp(correction_term_freq.xreplace(ang_subs),hints=hints)\n",
    "ang_subs_corr_term\n",
    "#print(se_subs)"
   ]
  },
  {
   "cell_type": "code",
   "execution_count": null,
   "metadata": {
    "ExecuteTime": {
     "end_time": "2019-05-14T14:09:17.371629Z",
     "start_time": "2019-05-14T14:09:17.321764Z"
    }
   },
   "outputs": [],
   "source": [
    "correction_term_freq"
   ]
  },
  {
   "cell_type": "code",
   "execution_count": null,
   "metadata": {
    "ExecuteTime": {
     "end_time": "2019-05-14T14:09:33.917393Z",
     "start_time": "2019-05-14T14:09:33.910412Z"
    }
   },
   "outputs": [],
   "source": [
    "def count_order(expr):\n",
    "    order = 0\n",
    "    if not expr.func is sympy.Mul:\n",
    "        return 2*sympy.count_ops(expr)\n",
    "    else:\n",
    "        for i in expr.args:\n",
    "            if i.func is not sympy.Pow:\n",
    "                order += 1\n",
    "            else:\n",
    "                if i.args[1].is_Integer:\n",
    "                    order += i.args[1]\n",
    "                else:\n",
    "                    order += 1\n",
    "    #print (expr, order)\n",
    "    return order"
   ]
  },
  {
   "cell_type": "code",
   "execution_count": null,
   "metadata": {
    "ExecuteTime": {
     "end_time": "2019-05-14T14:09:50.627746Z",
     "start_time": "2019-05-14T14:09:50.621758Z"
    }
   },
   "outputs": [],
   "source": [
    "_l_c*(l_c+l_o+l_s)"
   ]
  },
  {
   "cell_type": "code",
   "execution_count": null,
   "metadata": {
    "ExecuteTime": {
     "end_time": "2019-05-14T14:37:16.748542Z",
     "start_time": "2019-05-14T14:10:07.252268Z"
    },
    "scrolled": true
   },
   "outputs": [],
   "source": [
    "%%time\n",
    "from itertools import product\n",
    "for correction_term_key in correction_term_keys+[domega]:\n",
    "    substituted = expression_terms_dict[correction_term_key].xreplace({omega:zeroth_order_solution}).xreplace(lambda_subs)\n",
    "    expanded = sympy.expand(sympy.radsimp(expargsimp(substituted).xreplace({l_r:1/k_r})))\n",
    "    trig_simplified = trigargsimp(sympy.powsimp(expanded).rewrite(sympy.cos))\n",
    "    \n",
    "    trig_ses = trig_se(trig_simplified)\n",
    "    se_subs = {k:v for k,v in zip(trig_ses, sympy.symbols('t0:%d'%len(trig_ses)))}\n",
    "    se_subs_inv = {v:k for k,v in zip(trig_ses, sympy.symbols('t0:%d'%len(trig_ses)))}\n",
    "    collected = sympy.collect(sympy.expand(trig_simplified.xreplace(se_subs)), [k for k in se_subs_inv.keys()], evaluate=False)\n",
    "\n",
    "    as_trig_dict = {k:sympy.factor(v) for k,v in collected.items()}\n",
    "    correction_term_dict[correction_term_key] = sympy.factor(sympy.Add(*[se_subs_inv[k]*v for k,v in as_trig_dict.items()]))\n",
    "        \n",
    "    #substituted = substituted.xreplace({_l_f:0})\n",
    "    expanded = sympy.expand(sympy.radsimp(expargsimp(substituted).xreplace({l_r:1/k_r})))\n",
    "    trig_simplified = sympy.expand_trig(trigargsimp_full(sympy.powsimp(expanded).rewrite(sympy.cos).xreplace(ang_subs)))\n",
    "    \n",
    "    trig_ses = trig_se(trig_simplified)\n",
    "    se_subs = {k:v for k,v in zip(trig_ses, sympy.symbols('t0:%d'%len(trig_ses)))}\n",
    "    # print (se_subs)\n",
    "    se_subs_inv = {v:k for k,v in zip(trig_ses, sympy.symbols('t0:%d'%len(trig_ses)))}\n",
    "    # print (se_subs_inv)\n",
    "    replaced = trig_simplified.xreplace(se_subs).xreplace(se_subs_inv)\n",
    "    # collect the other way around: collect all non-trig symbols\n",
    "    collection_symbols = [s for s in replaced.free_symbols if s not in [phi, theta, n]]\n",
    "    collection_symbols_powers = list(set([sympy.Mul(*f) for f in product(collection_symbols+[sympy.singleton.SingletonRegistry.One], repeat=5)]))\n",
    "    collection_symbols_powers = [f for f in collection_symbols_powers] + [(-1)**n*f for f in collection_symbols_powers]\n",
    "    collection_symbols_powers = [f for f in collection_symbols_powers] + [sympy.I*f for f in collection_symbols_powers]\n",
    "    #collection_symbols_powers = [f*sympy.sin(theta) for f in collection_symbols_powers] + \\\n",
    "    #                            [f*sympy.cos(theta) for f in collection_symbols_powers]\n",
    "    collection_symbols_powers_sorted = sorted(collection_symbols_powers, key=count_order, reverse=True)\n",
    "    #print (collection_symbols_powers_sorted)\n",
    "    collected = sympy.collect(sympy.expand(replaced), collection_symbols_powers_sorted, evaluate=False)\n",
    "    #print(collected)\n",
    "    terms = []\n",
    "    for k,v in collected.items():\n",
    "        term = k*sympy.expand(sympy.expand(sympy.trigsimp(sympy.expand_trig(v.xreplace(\\\n",
    "                            {phi:psi*sympy.nsimplify(0.5)}))).rewrite(sympy.exp)).rewrite(sympy.cos))\n",
    "        #term = k*v\n",
    "        #print (term)\n",
    "        terms.append(term)\n",
    "    correction_term_dict_nof[correction_term_key] = sympy.factor(sympy.expand(sympy.Add(*terms)))\n",
    "    \n",
    "    #collected = sympy.collect(sympy.expand(trig_simplified.xreplace(se_subs)), [k for k in se_subs_inv.keys()], evaluate=False)\n",
    "    \n",
    "    #as_trig_dict = {k:sympy.factor(v) for k,v in collected.items()}\n",
    "    #correction_term_dict_nof[correction_term_key] = sympy.factor(sympy.Add(*[se_subs_inv[k]*v for k,v in as_trig_dict.items()]))\n",
    "    #correction_term_dict_nof[correction_term_key] = sympy.factor(sympy.expand(trig_simplified.xreplace(se_subs).xreplace(se_subs_inv)))\n",
    "\n",
    "pole_correction = sympy.Add(*[sympy.radsimp(k*v/correction_term_freq) for k,v in correction_term_dict.items()])\n",
    "pole_correction_nof = sympy.Add(*[sympy.radsimp(k*v/ang_subs_corr_term) for k,v in correction_term_dict.items()])\n",
    "\n",
    "freq_correction = sympy.re(pole_correction)\n",
    "loss_rate = sympy.im(pole_correction)\n",
    "freq_correction_nof = sympy.re(pole_correction_nof)\n",
    "loss_rate_nof = sympy.im(pole_correction_nof)"
   ]
  },
  {
   "cell_type": "code",
   "execution_count": null,
   "metadata": {
    "ExecuteTime": {
     "end_time": "2019-05-14T14:40:31.757166Z",
     "start_time": "2019-05-14T14:40:31.647458Z"
    }
   },
   "outputs": [],
   "source": [
    "corrections = {k:v.xreplace({k_r:1/(l_c+l_o+l_s), n:sympy.Symbol('p')}) for k,v in correction_term_dict_nof.items()}\n",
    "corrections[kappa**sympy.nsimplify(2)/sympy.nsimplify(2)]"
   ]
  },
  {
   "cell_type": "markdown",
   "metadata": {},
   "source": [
    "# Saving the final formulas to pickle"
   ]
  },
  {
   "cell_type": "code",
   "execution_count": null,
   "metadata": {
    "ExecuteTime": {
     "end_time": "2019-05-14T14:43:26.318365Z",
     "start_time": "2019-05-14T14:43:26.303381Z"
    }
   },
   "outputs": [],
   "source": [
    "import pickle\n",
    "f = open('transmission_line_model_with_feedline_full_short_open_symbolic_results.pkl', 'wb')\n",
    "pickle.dump(corrections, f)\n",
    "f.close()"
   ]
  },
  {
   "cell_type": "code",
   "execution_count": null,
   "metadata": {
    "ExecuteTime": {
     "end_time": "2019-05-14T14:46:22.908246Z",
     "start_time": "2019-05-14T14:46:22.850403Z"
    }
   },
   "outputs": [],
   "source": [
    "import pickle\n",
    "f = open('transmission_line_model_with_feedline_full_short_open_symbolic_results.pkl', 'rb')\n",
    "corrections = pickle.load(f)\n",
    "f.close()"
   ]
  },
  {
   "cell_type": "markdown",
   "metadata": {},
   "source": [
    "# Formulas used in the paper"
   ]
  },
  {
   "cell_type": "markdown",
   "metadata": {},
   "source": [
    "## eq:inv_ang_subs"
   ]
  },
  {
   "cell_type": "code",
   "execution_count": null,
   "metadata": {
    "ExecuteTime": {
     "end_time": "2019-05-14T14:49:35.775659Z",
     "start_time": "2019-05-14T14:49:35.767690Z"
    }
   },
   "outputs": [],
   "source": [
    "inv_ang_subs"
   ]
  },
  {
   "cell_type": "markdown",
   "metadata": {},
   "source": [
    "## eq:dD/df"
   ]
  },
  {
   "cell_type": "code",
   "execution_count": null,
   "metadata": {
    "ExecuteTime": {
     "end_time": "2019-05-14T14:52:55.671046Z",
     "start_time": "2019-05-14T14:52:55.665063Z"
    }
   },
   "outputs": [],
   "source": [
    "#dDdf=(ang_subs_corr_term*sympy.nsimplify(2)*sympy.pi).xreplace({k_r:1/(l_c+l_o+l_s), n:sympy.Symbol('p')})\n",
    "dDdf=corrections[domega]"
   ]
  },
  {
   "cell_type": "code",
   "execution_count": null,
   "metadata": {
    "ExecuteTime": {
     "end_time": "2019-05-14T14:56:01.457325Z",
     "start_time": "2019-05-14T14:56:01.435385Z"
    }
   },
   "outputs": [],
   "source": [
    "corrections[domega]"
   ]
  },
  {
   "cell_type": "code",
   "execution_count": null,
   "metadata": {
    "ExecuteTime": {
     "end_time": "2019-05-14T14:59:00.995355Z",
     "start_time": "2019-05-14T14:59:00.933501Z"
    }
   },
   "outputs": [],
   "source": [
    "LC_det = -sympy.ratsimp((Lq*Cq*omega**2-1).subs({omega:zeroth_order_solution}))"
   ]
  },
  {
   "cell_type": "code",
   "execution_count": null,
   "metadata": {
    "ExecuteTime": {
     "end_time": "2019-05-14T15:02:23.220666Z",
     "start_time": "2019-05-14T15:02:23.175509Z"
    }
   },
   "outputs": [],
   "source": [
    "dDdf_short = (sympy.simplify(32)*LC_det*sympy.singleton.SingletonRegistry.NegativeOne**n*Zr**3*(l_c+l_o+l_s)/c_l*(\\\n",
    "    -sympy.cos(theta)*sympy.cos(Omega)*Za*Zf*(Zi+Zo)+\\\n",
    "    sympy.I*sympy.cos(theta)*sympy.sin(Omega)*(Zf*Za*Za+Zf*Zi*Zo)+\\\n",
    "    sympy.I*sympy.sin(theta)*sympy.cos(Omega)*(Zf*Zf*Za+Za*Zi*Zo)+\\\n",
    "    sympy.sin(theta)*sympy.sin(Omega)*(Zf*Zf*Zo+Za*Za*Zi))).xreplace({n:sympy.Symbol('p')})\n",
    "dDdf_short"
   ]
  },
  {
   "cell_type": "code",
   "execution_count": null,
   "metadata": {
    "ExecuteTime": {
     "end_time": "2019-05-14T15:05:49.981236Z",
     "start_time": "2019-05-14T15:05:49.544373Z"
    }
   },
   "outputs": [],
   "source": [
    "sympy.ratsimp(sympy.expand(dDdf-dDdf_short))"
   ]
  },
  {
   "cell_type": "markdown",
   "metadata": {},
   "source": [
    "## eq:d2D/dk2"
   ]
  },
  {
   "cell_type": "code",
   "execution_count": 32,
   "metadata": {
    "ExecuteTime": {
     "end_time": "2019-05-15T08:06:18.260376Z",
     "start_time": "2019-05-15T08:06:18.137665Z"
    }
   },
   "outputs": [
    {
     "data": {
      "text/latex": [
       "$\\displaystyle - \\left(-1\\right)^{p} Z_{r}^{3} \\left(- \\frac{32 \\left(4 \\pi^{2} C_{q} L_{q} c_{l}^{2} p^{2} - 4 \\pi^{2} C_{q} L_{q} c_{l}^{2} p + \\pi^{2} C_{q} L_{q} c_{l}^{2}\\right)}{4 l_{c}^{2} + 8 l_{c} l_{o} + 8 l_{c} l_{s} + 4 l_{o}^{2} + 8 l_{o} l_{s} + 4 l_{s}^{2}} + 32\\right) \\left(Z_{a} Z_{f} \\left(- i Z_{a} \\sin{\\left(\\Omega \\right)} + Z_{o} \\cos{\\left(\\Omega \\right)}\\right) \\left(\\sin{\\left(\\psi \\right)} \\sin{\\left(\\theta \\right)} + 2 \\cos{\\left(\\psi \\right)} \\cos{\\left(\\theta \\right)} + 1\\right) + Z_{f} Z_{i} \\left(Z_{a} \\cos{\\left(\\Omega \\right)} - i Z_{o} \\sin{\\left(\\Omega \\right)}\\right) \\left(- \\sin{\\left(\\psi \\right)} \\sin{\\left(\\theta \\right)} + 2 \\cos{\\left(\\psi \\right)} \\cos{\\left(\\theta \\right)} + 1\\right) - \\left(i \\left(3 Z_{a} Z_{f}^{2} + Z_{a} Z_{i} Z_{o}\\right) \\cos{\\left(\\Omega \\right)} + \\left(Z_{a}^{2} Z_{i} + 3 Z_{f}^{2} Z_{o}\\right) \\sin{\\left(\\Omega \\right)}\\right) \\sin{\\left(\\theta \\right)} \\cos{\\left(\\psi \\right)}\\right) \\sin{\\left(\\theta \\right)}$"
      ],
      "text/plain": [
       "-(-1)**p*Z_r**3*(-32*(4*pi**2*C_q*L_q*c_l**2*p**2 - 4*pi**2*C_q*L_q*c_l**2*p + pi**2*C_q*L_q*c_l**2)/(4*l_c**2 + 8*l_c*l_o + 8*l_c*l_s + 4*l_o**2 + 8*l_o*l_s + 4*l_s**2) + 32)*(Z_a*Z_f*(-I*Z_a*sin(\\Omega) + Z_o*cos(\\Omega))*(sin(\\psi)*sin(\\theta) + 2*cos(\\psi)*cos(\\theta) + 1) + Z_f*Z_i*(Z_a*cos(\\Omega) - I*Z_o*sin(\\Omega))*(-sin(\\psi)*sin(\\theta) + 2*cos(\\psi)*cos(\\theta) + 1) - (I*(3*Z_a*Z_f**2 + Z_a*Z_i*Z_o)*cos(\\Omega) + (Z_a**2*Z_i + 3*Z_f**2*Z_o)*sin(\\Omega))*sin(\\theta)*cos(\\psi))*sin(\\theta)"
      ]
     },
     "execution_count": 32,
     "metadata": {},
     "output_type": "execute_result"
    }
   ],
   "source": [
    "d2Ddk2_short = -(sympy.simplify(32)*LC_det*sympy.singleton.SingletonRegistry.NegativeOne**n*Zr**3*sympy.sin(theta)*(\\\n",
    "Zf*Za*(-sympy.I*Za*sympy.sin(Omega)+Zo*sympy.cos(Omega))*( sympy.sin(psi)*sympy.sin(theta)+2*sympy.cos(psi)*sympy.cos(theta)+1)+\\\n",
    "Zf*Zi*(-sympy.I*Zo*sympy.sin(Omega)+Za*sympy.cos(Omega))*(-sympy.sin(psi)*sympy.sin(theta)+2*sympy.cos(psi)*sympy.cos(theta)+1)-\\\n",
    "sympy.sin(theta)*sympy.cos(psi)*(sympy.sin(Omega)*(Za*Za*Zi+3*Zf*Zf*Zo)+sympy.I*sympy.cos(Omega)*(Za*Zi*Zo+3*Za*Zf*Zf))\n",
    "    )).xreplace({n:sympy.Symbol('p')})\n",
    "d2Ddk2_short"
   ]
  },
  {
   "cell_type": "raw",
   "metadata": {
    "ExecuteTime": {
     "end_time": "2019-05-14T15:12:29.254771Z",
     "start_time": "2019-05-14T15:12:29.234797Z"
    }
   },
   "source": [
    "d2Ddk2_short = sympy.I*(sympy.simplify(32)*sympy.singleton.SingletonRegistry.NegativeOne**n*Zr**3*(\\\n",
    "    sympy.sin(theta)*((sympy.nsimplify(3)*Zf**2+Zi*Zo)*sympy.cos(psi)*sympy.sin(theta) + \\\n",
    "             sympy.I*Zf*(Zo+Zi)*(sympy.singleton.SingletonRegistry.One+\\\n",
    "                              sympy.nsimplify(2)*sympy.cos(theta)*sympy.cos(psi))+\\\n",
    "             sympy.I*Zf*(Zo-Zi)*sympy.sin(theta)*sympy.sin(psi)))).xreplace({n:sympy.Symbol('p')})\n",
    "d2Ddk2_short"
   ]
  },
  {
   "cell_type": "code",
   "execution_count": 33,
   "metadata": {
    "ExecuteTime": {
     "end_time": "2019-05-15T08:09:44.222663Z",
     "start_time": "2019-05-15T08:09:31.414918Z"
    },
    "scrolled": true
   },
   "outputs": [
    {
     "data": {
      "text/latex": [
       "$\\displaystyle 0$"
      ],
      "text/plain": [
       "0"
      ]
     },
     "execution_count": 33,
     "metadata": {},
     "output_type": "execute_result"
    }
   ],
   "source": [
    "sympy.expand(sympy.factor(d2Ddk2_short-corrections[kappa**sympy.nsimplify(2)/sympy.nsimplify(2)].xreplace({n:sympy.Symbol('p')})).rewrite(sympy.exp))"
   ]
  },
  {
   "cell_type": "markdown",
   "metadata": {},
   "source": [
    "## eq:dD/dZ"
   ]
  },
  {
   "cell_type": "code",
   "execution_count": 31,
   "metadata": {
    "ExecuteTime": {
     "end_time": "2019-05-14T15:19:56.300513Z",
     "start_time": "2019-05-14T15:19:56.271592Z"
    }
   },
   "outputs": [
    {
     "data": {
      "text/latex": [
       "$\\displaystyle 4 \\left(-1\\right)^{p} Z_{r}^{2} \\left(\\frac{4 \\pi^{2} C_{q} L_{q} c_{l}^{2} p^{2}}{\\left(l_{c} + l_{o} + l_{s}\\right)^{2}} - \\frac{4 \\pi^{2} C_{q} L_{q} c_{l}^{2} p}{\\left(l_{c} + l_{o} + l_{s}\\right)^{2}} + \\frac{\\pi^{2} C_{q} L_{q} c_{l}^{2}}{\\left(l_{c} + l_{o} + l_{s}\\right)^{2}} - 4\\right) \\left(i Z_{a}^{2} Z_{f} \\sin{\\left(\\Omega \\right)} \\sin{\\left(2 \\theta \\right)} - Z_{a}^{2} Z_{i} \\sin{\\left(\\Omega \\right)} \\cos{\\left(2 \\theta \\right)} + Z_{a}^{2} Z_{i} \\sin{\\left(\\Omega \\right)} - i Z_{a} Z_{f}^{2} \\cos{\\left(\\Omega \\right)} \\cos{\\left(2 \\theta \\right)} + i Z_{a} Z_{f}^{2} \\cos{\\left(\\Omega \\right)} - Z_{a} Z_{f} Z_{i} \\sin{\\left(2 \\theta \\right)} \\cos{\\left(\\Omega \\right)} - Z_{a} Z_{f} Z_{o} \\sin{\\left(2 \\theta \\right)} \\cos{\\left(\\Omega \\right)} - i Z_{a} Z_{i} Z_{o} \\cos{\\left(\\Omega \\right)} \\cos{\\left(2 \\theta \\right)} + i Z_{a} Z_{i} Z_{o} \\cos{\\left(\\Omega \\right)} - Z_{f}^{2} Z_{o} \\sin{\\left(\\Omega \\right)} \\cos{\\left(2 \\theta \\right)} + Z_{f}^{2} Z_{o} \\sin{\\left(\\Omega \\right)} + i Z_{f} Z_{i} Z_{o} \\sin{\\left(\\Omega \\right)} \\sin{\\left(2 \\theta \\right)}\\right) \\cos{\\left(\\psi \\right)}$"
      ],
      "text/plain": [
       "4*(-1)**p*Z_r**2*(4*pi**2*C_q*L_q*c_l**2*p**2/(l_c + l_o + l_s)**2 - 4*pi**2*C_q*L_q*c_l**2*p/(l_c + l_o + l_s)**2 + pi**2*C_q*L_q*c_l**2/(l_c + l_o + l_s)**2 - 4)*(I*Z_a**2*Z_f*sin(\\Omega)*sin(2*\\theta) - Z_a**2*Z_i*sin(\\Omega)*cos(2*\\theta) + Z_a**2*Z_i*sin(\\Omega) - I*Z_a*Z_f**2*cos(\\Omega)*cos(2*\\theta) + I*Z_a*Z_f**2*cos(\\Omega) - Z_a*Z_f*Z_i*sin(2*\\theta)*cos(\\Omega) - Z_a*Z_f*Z_o*sin(2*\\theta)*cos(\\Omega) - I*Z_a*Z_i*Z_o*cos(\\Omega)*cos(2*\\theta) + I*Z_a*Z_i*Z_o*cos(\\Omega) - Z_f**2*Z_o*sin(\\Omega)*cos(2*\\theta) + Z_f**2*Z_o*sin(\\Omega) + I*Z_f*Z_i*Z_o*sin(\\Omega)*sin(2*\\theta))*cos(\\psi)"
      ]
     },
     "execution_count": 31,
     "metadata": {},
     "output_type": "execute_result"
    }
   ],
   "source": [
    "corrections[Z2-Zr]"
   ]
  },
  {
   "cell_type": "code",
   "execution_count": 29,
   "metadata": {
    "ExecuteTime": {
     "end_time": "2019-05-13T08:29:00.468753Z",
     "start_time": "2019-05-13T08:29:00.456785Z"
    },
    "collapsed": true
   },
   "outputs": [],
   "source": [
    "dDdZ_short = sympy.I*(sympy.nsimplify(16)*sympy.singleton.SingletonRegistry.NegativeOne**n*Zr**2*sympy.sin(theta)*sympy.cos(psi)*(\\\n",
    "    (Zf**2+Zi*Zo)*sympy.sin(theta)+sympy.I*Zf*(Zi+Zo)*sympy.cos(theta))).xreplace({n:sympy.Symbol('p')})\n",
    "dDdZ_short = corrections[Z2-Zr]"
   ]
  },
  {
   "cell_type": "code",
   "execution_count": 90,
   "metadata": {
    "ExecuteTime": {
     "end_time": "2019-05-07T15:04:29.076038Z",
     "start_time": "2019-05-07T15:04:28.576350Z"
    },
    "scrolled": true
   },
   "outputs": [
    {
     "data": {
      "text/latex": [
       "$\\displaystyle - 2 i Z_{a}^{2} Z_{f} Z_{r}^{2} e^{i \\Omega} e^{i \\psi} e^{2 i \\theta} e^{i \\pi p} + 2 i Z_{a}^{2} Z_{f} Z_{r}^{2} e^{i \\Omega} e^{i \\psi} e^{- 2 i \\theta} e^{i \\pi p} - 2 i Z_{a}^{2} Z_{f} Z_{r}^{2} e^{i \\Omega} e^{- i \\psi} e^{2 i \\theta} e^{i \\pi p} + 2 i Z_{a}^{2} Z_{f} Z_{r}^{2} e^{i \\Omega} e^{- i \\psi} e^{- 2 i \\theta} e^{i \\pi p} + 2 i Z_{a}^{2} Z_{f} Z_{r}^{2} e^{- i \\Omega} e^{i \\psi} e^{2 i \\theta} e^{i \\pi p} - 2 i Z_{a}^{2} Z_{f} Z_{r}^{2} e^{- i \\Omega} e^{i \\psi} e^{- 2 i \\theta} e^{i \\pi p} + 2 i Z_{a}^{2} Z_{f} Z_{r}^{2} e^{- i \\Omega} e^{- i \\psi} e^{2 i \\theta} e^{i \\pi p} - 2 i Z_{a}^{2} Z_{f} Z_{r}^{2} e^{- i \\Omega} e^{- i \\psi} e^{- 2 i \\theta} e^{i \\pi p} + 2 i Z_{a}^{2} Z_{i} Z_{r}^{2} e^{i \\Omega} e^{i \\psi} e^{2 i \\theta} e^{i \\pi p} - 4 i Z_{a}^{2} Z_{i} Z_{r}^{2} e^{i \\Omega} e^{i \\psi} e^{i \\pi p} + 2 i Z_{a}^{2} Z_{i} Z_{r}^{2} e^{i \\Omega} e^{i \\psi} e^{- 2 i \\theta} e^{i \\pi p} + 2 i Z_{a}^{2} Z_{i} Z_{r}^{2} e^{i \\Omega} e^{- i \\psi} e^{2 i \\theta} e^{i \\pi p} - 4 i Z_{a}^{2} Z_{i} Z_{r}^{2} e^{i \\Omega} e^{- i \\psi} e^{i \\pi p} + 2 i Z_{a}^{2} Z_{i} Z_{r}^{2} e^{i \\Omega} e^{- i \\psi} e^{- 2 i \\theta} e^{i \\pi p} - 2 i Z_{a}^{2} Z_{i} Z_{r}^{2} e^{- i \\Omega} e^{i \\psi} e^{2 i \\theta} e^{i \\pi p} + 4 i Z_{a}^{2} Z_{i} Z_{r}^{2} e^{- i \\Omega} e^{i \\psi} e^{i \\pi p} - 2 i Z_{a}^{2} Z_{i} Z_{r}^{2} e^{- i \\Omega} e^{i \\psi} e^{- 2 i \\theta} e^{i \\pi p} - 2 i Z_{a}^{2} Z_{i} Z_{r}^{2} e^{- i \\Omega} e^{- i \\psi} e^{2 i \\theta} e^{i \\pi p} + 4 i Z_{a}^{2} Z_{i} Z_{r}^{2} e^{- i \\Omega} e^{- i \\psi} e^{i \\pi p} - 2 i Z_{a}^{2} Z_{i} Z_{r}^{2} e^{- i \\Omega} e^{- i \\psi} e^{- 2 i \\theta} e^{i \\pi p} - 2 i Z_{a} Z_{f}^{2} Z_{r}^{2} e^{i \\Omega} e^{i \\psi} e^{2 i \\theta} e^{i \\pi p} + 4 i Z_{a} Z_{f}^{2} Z_{r}^{2} e^{i \\Omega} e^{i \\psi} e^{i \\pi p} - 2 i Z_{a} Z_{f}^{2} Z_{r}^{2} e^{i \\Omega} e^{i \\psi} e^{- 2 i \\theta} e^{i \\pi p} - 2 i Z_{a} Z_{f}^{2} Z_{r}^{2} e^{i \\Omega} e^{- i \\psi} e^{2 i \\theta} e^{i \\pi p} + 4 i Z_{a} Z_{f}^{2} Z_{r}^{2} e^{i \\Omega} e^{- i \\psi} e^{i \\pi p} - 2 i Z_{a} Z_{f}^{2} Z_{r}^{2} e^{i \\Omega} e^{- i \\psi} e^{- 2 i \\theta} e^{i \\pi p} - 2 i Z_{a} Z_{f}^{2} Z_{r}^{2} e^{- i \\Omega} e^{i \\psi} e^{2 i \\theta} e^{i \\pi p} + 4 i Z_{a} Z_{f}^{2} Z_{r}^{2} e^{- i \\Omega} e^{i \\psi} e^{i \\pi p} - 2 i Z_{a} Z_{f}^{2} Z_{r}^{2} e^{- i \\Omega} e^{i \\psi} e^{- 2 i \\theta} e^{i \\pi p} - 2 i Z_{a} Z_{f}^{2} Z_{r}^{2} e^{- i \\Omega} e^{- i \\psi} e^{2 i \\theta} e^{i \\pi p} + 4 i Z_{a} Z_{f}^{2} Z_{r}^{2} e^{- i \\Omega} e^{- i \\psi} e^{i \\pi p} - 2 i Z_{a} Z_{f}^{2} Z_{r}^{2} e^{- i \\Omega} e^{- i \\psi} e^{- 2 i \\theta} e^{i \\pi p} + 2 i Z_{a} Z_{f} Z_{i} Z_{r}^{2} e^{i \\Omega} e^{i \\psi} e^{2 i \\theta} e^{i \\pi p} - 2 i Z_{a} Z_{f} Z_{i} Z_{r}^{2} e^{i \\Omega} e^{i \\psi} e^{- 2 i \\theta} e^{i \\pi p} + 2 i Z_{a} Z_{f} Z_{i} Z_{r}^{2} e^{i \\Omega} e^{- i \\psi} e^{2 i \\theta} e^{i \\pi p} - 2 i Z_{a} Z_{f} Z_{i} Z_{r}^{2} e^{i \\Omega} e^{- i \\psi} e^{- 2 i \\theta} e^{i \\pi p} + 2 i Z_{a} Z_{f} Z_{i} Z_{r}^{2} e^{- i \\Omega} e^{i \\psi} e^{2 i \\theta} e^{i \\pi p} - 2 i Z_{a} Z_{f} Z_{i} Z_{r}^{2} e^{- i \\Omega} e^{i \\psi} e^{- 2 i \\theta} e^{i \\pi p} + 2 i Z_{a} Z_{f} Z_{i} Z_{r}^{2} e^{- i \\Omega} e^{- i \\psi} e^{2 i \\theta} e^{i \\pi p} - 2 i Z_{a} Z_{f} Z_{i} Z_{r}^{2} e^{- i \\Omega} e^{- i \\psi} e^{- 2 i \\theta} e^{i \\pi p} + 2 i Z_{a} Z_{f} Z_{o} Z_{r}^{2} e^{i \\Omega} e^{i \\psi} e^{2 i \\theta} e^{i \\pi p} - 2 i Z_{a} Z_{f} Z_{o} Z_{r}^{2} e^{i \\Omega} e^{i \\psi} e^{- 2 i \\theta} e^{i \\pi p} + 2 i Z_{a} Z_{f} Z_{o} Z_{r}^{2} e^{i \\Omega} e^{- i \\psi} e^{2 i \\theta} e^{i \\pi p} - 2 i Z_{a} Z_{f} Z_{o} Z_{r}^{2} e^{i \\Omega} e^{- i \\psi} e^{- 2 i \\theta} e^{i \\pi p} + 2 i Z_{a} Z_{f} Z_{o} Z_{r}^{2} e^{- i \\Omega} e^{i \\psi} e^{2 i \\theta} e^{i \\pi p} - 2 i Z_{a} Z_{f} Z_{o} Z_{r}^{2} e^{- i \\Omega} e^{i \\psi} e^{- 2 i \\theta} e^{i \\pi p} + 2 i Z_{a} Z_{f} Z_{o} Z_{r}^{2} e^{- i \\Omega} e^{- i \\psi} e^{2 i \\theta} e^{i \\pi p} - 2 i Z_{a} Z_{f} Z_{o} Z_{r}^{2} e^{- i \\Omega} e^{- i \\psi} e^{- 2 i \\theta} e^{i \\pi p} - 2 i Z_{a} Z_{i} Z_{o} Z_{r}^{2} e^{i \\Omega} e^{i \\psi} e^{2 i \\theta} e^{i \\pi p} + 4 i Z_{a} Z_{i} Z_{o} Z_{r}^{2} e^{i \\Omega} e^{i \\psi} e^{i \\pi p} - 2 i Z_{a} Z_{i} Z_{o} Z_{r}^{2} e^{i \\Omega} e^{i \\psi} e^{- 2 i \\theta} e^{i \\pi p} - 2 i Z_{a} Z_{i} Z_{o} Z_{r}^{2} e^{i \\Omega} e^{- i \\psi} e^{2 i \\theta} e^{i \\pi p} + 4 i Z_{a} Z_{i} Z_{o} Z_{r}^{2} e^{i \\Omega} e^{- i \\psi} e^{i \\pi p} - 2 i Z_{a} Z_{i} Z_{o} Z_{r}^{2} e^{i \\Omega} e^{- i \\psi} e^{- 2 i \\theta} e^{i \\pi p} - 2 i Z_{a} Z_{i} Z_{o} Z_{r}^{2} e^{- i \\Omega} e^{i \\psi} e^{2 i \\theta} e^{i \\pi p} + 4 i Z_{a} Z_{i} Z_{o} Z_{r}^{2} e^{- i \\Omega} e^{i \\psi} e^{i \\pi p} - 2 i Z_{a} Z_{i} Z_{o} Z_{r}^{2} e^{- i \\Omega} e^{i \\psi} e^{- 2 i \\theta} e^{i \\pi p} - 2 i Z_{a} Z_{i} Z_{o} Z_{r}^{2} e^{- i \\Omega} e^{- i \\psi} e^{2 i \\theta} e^{i \\pi p} + 4 i Z_{a} Z_{i} Z_{o} Z_{r}^{2} e^{- i \\Omega} e^{- i \\psi} e^{i \\pi p} - 2 i Z_{a} Z_{i} Z_{o} Z_{r}^{2} e^{- i \\Omega} e^{- i \\psi} e^{- 2 i \\theta} e^{i \\pi p} + 2 i Z_{f}^{2} Z_{o} Z_{r}^{2} e^{i \\Omega} e^{i \\psi} e^{2 i \\theta} e^{i \\pi p} - 4 i Z_{f}^{2} Z_{o} Z_{r}^{2} e^{i \\Omega} e^{i \\psi} e^{i \\pi p} + 2 i Z_{f}^{2} Z_{o} Z_{r}^{2} e^{i \\Omega} e^{i \\psi} e^{- 2 i \\theta} e^{i \\pi p} + 2 i Z_{f}^{2} Z_{o} Z_{r}^{2} e^{i \\Omega} e^{- i \\psi} e^{2 i \\theta} e^{i \\pi p} - 4 i Z_{f}^{2} Z_{o} Z_{r}^{2} e^{i \\Omega} e^{- i \\psi} e^{i \\pi p} + 2 i Z_{f}^{2} Z_{o} Z_{r}^{2} e^{i \\Omega} e^{- i \\psi} e^{- 2 i \\theta} e^{i \\pi p} - 2 i Z_{f}^{2} Z_{o} Z_{r}^{2} e^{- i \\Omega} e^{i \\psi} e^{2 i \\theta} e^{i \\pi p} + 4 i Z_{f}^{2} Z_{o} Z_{r}^{2} e^{- i \\Omega} e^{i \\psi} e^{i \\pi p} - 2 i Z_{f}^{2} Z_{o} Z_{r}^{2} e^{- i \\Omega} e^{i \\psi} e^{- 2 i \\theta} e^{i \\pi p} - 2 i Z_{f}^{2} Z_{o} Z_{r}^{2} e^{- i \\Omega} e^{- i \\psi} e^{2 i \\theta} e^{i \\pi p} + 4 i Z_{f}^{2} Z_{o} Z_{r}^{2} e^{- i \\Omega} e^{- i \\psi} e^{i \\pi p} - 2 i Z_{f}^{2} Z_{o} Z_{r}^{2} e^{- i \\Omega} e^{- i \\psi} e^{- 2 i \\theta} e^{i \\pi p} - 2 i Z_{f}^{2} Z_{r}^{2} e^{i \\psi} e^{2 i \\theta} e^{i \\pi p} + 4 i Z_{f}^{2} Z_{r}^{2} e^{i \\psi} e^{i \\pi p} - 2 i Z_{f}^{2} Z_{r}^{2} e^{i \\psi} e^{- 2 i \\theta} e^{i \\pi p} - 2 i Z_{f}^{2} Z_{r}^{2} e^{- i \\psi} e^{2 i \\theta} e^{i \\pi p} + 4 i Z_{f}^{2} Z_{r}^{2} e^{- i \\psi} e^{i \\pi p} - 2 i Z_{f}^{2} Z_{r}^{2} e^{- i \\psi} e^{- 2 i \\theta} e^{i \\pi p} - 2 i Z_{f} Z_{i} Z_{o} Z_{r}^{2} e^{i \\Omega} e^{i \\psi} e^{2 i \\theta} e^{i \\pi p} + 2 i Z_{f} Z_{i} Z_{o} Z_{r}^{2} e^{i \\Omega} e^{i \\psi} e^{- 2 i \\theta} e^{i \\pi p} - 2 i Z_{f} Z_{i} Z_{o} Z_{r}^{2} e^{i \\Omega} e^{- i \\psi} e^{2 i \\theta} e^{i \\pi p} + 2 i Z_{f} Z_{i} Z_{o} Z_{r}^{2} e^{i \\Omega} e^{- i \\psi} e^{- 2 i \\theta} e^{i \\pi p} + 2 i Z_{f} Z_{i} Z_{o} Z_{r}^{2} e^{- i \\Omega} e^{i \\psi} e^{2 i \\theta} e^{i \\pi p} - 2 i Z_{f} Z_{i} Z_{o} Z_{r}^{2} e^{- i \\Omega} e^{i \\psi} e^{- 2 i \\theta} e^{i \\pi p} + 2 i Z_{f} Z_{i} Z_{o} Z_{r}^{2} e^{- i \\Omega} e^{- i \\psi} e^{2 i \\theta} e^{i \\pi p} - 2 i Z_{f} Z_{i} Z_{o} Z_{r}^{2} e^{- i \\Omega} e^{- i \\psi} e^{- 2 i \\theta} e^{i \\pi p} + 2 i Z_{f} Z_{i} Z_{r}^{2} e^{i \\psi} e^{2 i \\theta} e^{i \\pi p} - 2 i Z_{f} Z_{i} Z_{r}^{2} e^{i \\psi} e^{- 2 i \\theta} e^{i \\pi p} + 2 i Z_{f} Z_{i} Z_{r}^{2} e^{- i \\psi} e^{2 i \\theta} e^{i \\pi p} - 2 i Z_{f} Z_{i} Z_{r}^{2} e^{- i \\psi} e^{- 2 i \\theta} e^{i \\pi p} + 2 i Z_{f} Z_{o} Z_{r}^{2} e^{i \\psi} e^{2 i \\theta} e^{i \\pi p} - 2 i Z_{f} Z_{o} Z_{r}^{2} e^{i \\psi} e^{- 2 i \\theta} e^{i \\pi p} + 2 i Z_{f} Z_{o} Z_{r}^{2} e^{- i \\psi} e^{2 i \\theta} e^{i \\pi p} - 2 i Z_{f} Z_{o} Z_{r}^{2} e^{- i \\psi} e^{- 2 i \\theta} e^{i \\pi p} - 2 i Z_{i} Z_{o} Z_{r}^{2} e^{i \\psi} e^{2 i \\theta} e^{i \\pi p} + 4 i Z_{i} Z_{o} Z_{r}^{2} e^{i \\psi} e^{i \\pi p} - 2 i Z_{i} Z_{o} Z_{r}^{2} e^{i \\psi} e^{- 2 i \\theta} e^{i \\pi p} - 2 i Z_{i} Z_{o} Z_{r}^{2} e^{- i \\psi} e^{2 i \\theta} e^{i \\pi p} + 4 i Z_{i} Z_{o} Z_{r}^{2} e^{- i \\psi} e^{i \\pi p} - 2 i Z_{i} Z_{o} Z_{r}^{2} e^{- i \\psi} e^{- 2 i \\theta} e^{i \\pi p}$"
      ],
      "text/plain": [
       "-2*I*Z_a**2*Z_f*Z_r**2*exp(I*\\Omega)*exp(I*\\psi)*exp(2*I*\\theta)*exp(I*pi*p) + 2*I*Z_a**2*Z_f*Z_r**2*exp(I*\\Omega)*exp(I*\\psi)*exp(-2*I*\\theta)*exp(I*pi*p) - 2*I*Z_a**2*Z_f*Z_r**2*exp(I*\\Omega)*exp(-I*\\psi)*exp(2*I*\\theta)*exp(I*pi*p) + 2*I*Z_a**2*Z_f*Z_r**2*exp(I*\\Omega)*exp(-I*\\psi)*exp(-2*I*\\theta)*exp(I*pi*p) + 2*I*Z_a**2*Z_f*Z_r**2*exp(-I*\\Omega)*exp(I*\\psi)*exp(2*I*\\theta)*exp(I*pi*p) - 2*I*Z_a**2*Z_f*Z_r**2*exp(-I*\\Omega)*exp(I*\\psi)*exp(-2*I*\\theta)*exp(I*pi*p) + 2*I*Z_a**2*Z_f*Z_r**2*exp(-I*\\Omega)*exp(-I*\\psi)*exp(2*I*\\theta)*exp(I*pi*p) - 2*I*Z_a**2*Z_f*Z_r**2*exp(-I*\\Omega)*exp(-I*\\psi)*exp(-2*I*\\theta)*exp(I*pi*p) + 2*I*Z_a**2*Z_i*Z_r**2*exp(I*\\Omega)*exp(I*\\psi)*exp(2*I*\\theta)*exp(I*pi*p) - 4*I*Z_a**2*Z_i*Z_r**2*exp(I*\\Omega)*exp(I*\\psi)*exp(I*pi*p) + 2*I*Z_a**2*Z_i*Z_r**2*exp(I*\\Omega)*exp(I*\\psi)*exp(-2*I*\\theta)*exp(I*pi*p) + 2*I*Z_a**2*Z_i*Z_r**2*exp(I*\\Omega)*exp(-I*\\psi)*exp(2*I*\\theta)*exp(I*pi*p) - 4*I*Z_a**2*Z_i*Z_r**2*exp(I*\\Omega)*exp(-I*\\psi)*exp(I*pi*p) + 2*I*Z_a**2*Z_i*Z_r**2*exp(I*\\Omega)*exp(-I*\\psi)*exp(-2*I*\\theta)*exp(I*pi*p) - 2*I*Z_a**2*Z_i*Z_r**2*exp(-I*\\Omega)*exp(I*\\psi)*exp(2*I*\\theta)*exp(I*pi*p) + 4*I*Z_a**2*Z_i*Z_r**2*exp(-I*\\Omega)*exp(I*\\psi)*exp(I*pi*p) - 2*I*Z_a**2*Z_i*Z_r**2*exp(-I*\\Omega)*exp(I*\\psi)*exp(-2*I*\\theta)*exp(I*pi*p) - 2*I*Z_a**2*Z_i*Z_r**2*exp(-I*\\Omega)*exp(-I*\\psi)*exp(2*I*\\theta)*exp(I*pi*p) + 4*I*Z_a**2*Z_i*Z_r**2*exp(-I*\\Omega)*exp(-I*\\psi)*exp(I*pi*p) - 2*I*Z_a**2*Z_i*Z_r**2*exp(-I*\\Omega)*exp(-I*\\psi)*exp(-2*I*\\theta)*exp(I*pi*p) - 2*I*Z_a*Z_f**2*Z_r**2*exp(I*\\Omega)*exp(I*\\psi)*exp(2*I*\\theta)*exp(I*pi*p) + 4*I*Z_a*Z_f**2*Z_r**2*exp(I*\\Omega)*exp(I*\\psi)*exp(I*pi*p) - 2*I*Z_a*Z_f**2*Z_r**2*exp(I*\\Omega)*exp(I*\\psi)*exp(-2*I*\\theta)*exp(I*pi*p) - 2*I*Z_a*Z_f**2*Z_r**2*exp(I*\\Omega)*exp(-I*\\psi)*exp(2*I*\\theta)*exp(I*pi*p) + 4*I*Z_a*Z_f**2*Z_r**2*exp(I*\\Omega)*exp(-I*\\psi)*exp(I*pi*p) - 2*I*Z_a*Z_f**2*Z_r**2*exp(I*\\Omega)*exp(-I*\\psi)*exp(-2*I*\\theta)*exp(I*pi*p) - 2*I*Z_a*Z_f**2*Z_r**2*exp(-I*\\Omega)*exp(I*\\psi)*exp(2*I*\\theta)*exp(I*pi*p) + 4*I*Z_a*Z_f**2*Z_r**2*exp(-I*\\Omega)*exp(I*\\psi)*exp(I*pi*p) - 2*I*Z_a*Z_f**2*Z_r**2*exp(-I*\\Omega)*exp(I*\\psi)*exp(-2*I*\\theta)*exp(I*pi*p) - 2*I*Z_a*Z_f**2*Z_r**2*exp(-I*\\Omega)*exp(-I*\\psi)*exp(2*I*\\theta)*exp(I*pi*p) + 4*I*Z_a*Z_f**2*Z_r**2*exp(-I*\\Omega)*exp(-I*\\psi)*exp(I*pi*p) - 2*I*Z_a*Z_f**2*Z_r**2*exp(-I*\\Omega)*exp(-I*\\psi)*exp(-2*I*\\theta)*exp(I*pi*p) + 2*I*Z_a*Z_f*Z_i*Z_r**2*exp(I*\\Omega)*exp(I*\\psi)*exp(2*I*\\theta)*exp(I*pi*p) - 2*I*Z_a*Z_f*Z_i*Z_r**2*exp(I*\\Omega)*exp(I*\\psi)*exp(-2*I*\\theta)*exp(I*pi*p) + 2*I*Z_a*Z_f*Z_i*Z_r**2*exp(I*\\Omega)*exp(-I*\\psi)*exp(2*I*\\theta)*exp(I*pi*p) - 2*I*Z_a*Z_f*Z_i*Z_r**2*exp(I*\\Omega)*exp(-I*\\psi)*exp(-2*I*\\theta)*exp(I*pi*p) + 2*I*Z_a*Z_f*Z_i*Z_r**2*exp(-I*\\Omega)*exp(I*\\psi)*exp(2*I*\\theta)*exp(I*pi*p) - 2*I*Z_a*Z_f*Z_i*Z_r**2*exp(-I*\\Omega)*exp(I*\\psi)*exp(-2*I*\\theta)*exp(I*pi*p) + 2*I*Z_a*Z_f*Z_i*Z_r**2*exp(-I*\\Omega)*exp(-I*\\psi)*exp(2*I*\\theta)*exp(I*pi*p) - 2*I*Z_a*Z_f*Z_i*Z_r**2*exp(-I*\\Omega)*exp(-I*\\psi)*exp(-2*I*\\theta)*exp(I*pi*p) + 2*I*Z_a*Z_f*Z_o*Z_r**2*exp(I*\\Omega)*exp(I*\\psi)*exp(2*I*\\theta)*exp(I*pi*p) - 2*I*Z_a*Z_f*Z_o*Z_r**2*exp(I*\\Omega)*exp(I*\\psi)*exp(-2*I*\\theta)*exp(I*pi*p) + 2*I*Z_a*Z_f*Z_o*Z_r**2*exp(I*\\Omega)*exp(-I*\\psi)*exp(2*I*\\theta)*exp(I*pi*p) - 2*I*Z_a*Z_f*Z_o*Z_r**2*exp(I*\\Omega)*exp(-I*\\psi)*exp(-2*I*\\theta)*exp(I*pi*p) + 2*I*Z_a*Z_f*Z_o*Z_r**2*exp(-I*\\Omega)*exp(I*\\psi)*exp(2*I*\\theta)*exp(I*pi*p) - 2*I*Z_a*Z_f*Z_o*Z_r**2*exp(-I*\\Omega)*exp(I*\\psi)*exp(-2*I*\\theta)*exp(I*pi*p) + 2*I*Z_a*Z_f*Z_o*Z_r**2*exp(-I*\\Omega)*exp(-I*\\psi)*exp(2*I*\\theta)*exp(I*pi*p) - 2*I*Z_a*Z_f*Z_o*Z_r**2*exp(-I*\\Omega)*exp(-I*\\psi)*exp(-2*I*\\theta)*exp(I*pi*p) - 2*I*Z_a*Z_i*Z_o*Z_r**2*exp(I*\\Omega)*exp(I*\\psi)*exp(2*I*\\theta)*exp(I*pi*p) + 4*I*Z_a*Z_i*Z_o*Z_r**2*exp(I*\\Omega)*exp(I*\\psi)*exp(I*pi*p) - 2*I*Z_a*Z_i*Z_o*Z_r**2*exp(I*\\Omega)*exp(I*\\psi)*exp(-2*I*\\theta)*exp(I*pi*p) - 2*I*Z_a*Z_i*Z_o*Z_r**2*exp(I*\\Omega)*exp(-I*\\psi)*exp(2*I*\\theta)*exp(I*pi*p) + 4*I*Z_a*Z_i*Z_o*Z_r**2*exp(I*\\Omega)*exp(-I*\\psi)*exp(I*pi*p) - 2*I*Z_a*Z_i*Z_o*Z_r**2*exp(I*\\Omega)*exp(-I*\\psi)*exp(-2*I*\\theta)*exp(I*pi*p) - 2*I*Z_a*Z_i*Z_o*Z_r**2*exp(-I*\\Omega)*exp(I*\\psi)*exp(2*I*\\theta)*exp(I*pi*p) + 4*I*Z_a*Z_i*Z_o*Z_r**2*exp(-I*\\Omega)*exp(I*\\psi)*exp(I*pi*p) - 2*I*Z_a*Z_i*Z_o*Z_r**2*exp(-I*\\Omega)*exp(I*\\psi)*exp(-2*I*\\theta)*exp(I*pi*p) - 2*I*Z_a*Z_i*Z_o*Z_r**2*exp(-I*\\Omega)*exp(-I*\\psi)*exp(2*I*\\theta)*exp(I*pi*p) + 4*I*Z_a*Z_i*Z_o*Z_r**2*exp(-I*\\Omega)*exp(-I*\\psi)*exp(I*pi*p) - 2*I*Z_a*Z_i*Z_o*Z_r**2*exp(-I*\\Omega)*exp(-I*\\psi)*exp(-2*I*\\theta)*exp(I*pi*p) + 2*I*Z_f**2*Z_o*Z_r**2*exp(I*\\Omega)*exp(I*\\psi)*exp(2*I*\\theta)*exp(I*pi*p) - 4*I*Z_f**2*Z_o*Z_r**2*exp(I*\\Omega)*exp(I*\\psi)*exp(I*pi*p) + 2*I*Z_f**2*Z_o*Z_r**2*exp(I*\\Omega)*exp(I*\\psi)*exp(-2*I*\\theta)*exp(I*pi*p) + 2*I*Z_f**2*Z_o*Z_r**2*exp(I*\\Omega)*exp(-I*\\psi)*exp(2*I*\\theta)*exp(I*pi*p) - 4*I*Z_f**2*Z_o*Z_r**2*exp(I*\\Omega)*exp(-I*\\psi)*exp(I*pi*p) + 2*I*Z_f**2*Z_o*Z_r**2*exp(I*\\Omega)*exp(-I*\\psi)*exp(-2*I*\\theta)*exp(I*pi*p) - 2*I*Z_f**2*Z_o*Z_r**2*exp(-I*\\Omega)*exp(I*\\psi)*exp(2*I*\\theta)*exp(I*pi*p) + 4*I*Z_f**2*Z_o*Z_r**2*exp(-I*\\Omega)*exp(I*\\psi)*exp(I*pi*p) - 2*I*Z_f**2*Z_o*Z_r**2*exp(-I*\\Omega)*exp(I*\\psi)*exp(-2*I*\\theta)*exp(I*pi*p) - 2*I*Z_f**2*Z_o*Z_r**2*exp(-I*\\Omega)*exp(-I*\\psi)*exp(2*I*\\theta)*exp(I*pi*p) + 4*I*Z_f**2*Z_o*Z_r**2*exp(-I*\\Omega)*exp(-I*\\psi)*exp(I*pi*p) - 2*I*Z_f**2*Z_o*Z_r**2*exp(-I*\\Omega)*exp(-I*\\psi)*exp(-2*I*\\theta)*exp(I*pi*p) - 2*I*Z_f**2*Z_r**2*exp(I*\\psi)*exp(2*I*\\theta)*exp(I*pi*p) + 4*I*Z_f**2*Z_r**2*exp(I*\\psi)*exp(I*pi*p) - 2*I*Z_f**2*Z_r**2*exp(I*\\psi)*exp(-2*I*\\theta)*exp(I*pi*p) - 2*I*Z_f**2*Z_r**2*exp(-I*\\psi)*exp(2*I*\\theta)*exp(I*pi*p) + 4*I*Z_f**2*Z_r**2*exp(-I*\\psi)*exp(I*pi*p) - 2*I*Z_f**2*Z_r**2*exp(-I*\\psi)*exp(-2*I*\\theta)*exp(I*pi*p) - 2*I*Z_f*Z_i*Z_o*Z_r**2*exp(I*\\Omega)*exp(I*\\psi)*exp(2*I*\\theta)*exp(I*pi*p) + 2*I*Z_f*Z_i*Z_o*Z_r**2*exp(I*\\Omega)*exp(I*\\psi)*exp(-2*I*\\theta)*exp(I*pi*p) - 2*I*Z_f*Z_i*Z_o*Z_r**2*exp(I*\\Omega)*exp(-I*\\psi)*exp(2*I*\\theta)*exp(I*pi*p) + 2*I*Z_f*Z_i*Z_o*Z_r**2*exp(I*\\Omega)*exp(-I*\\psi)*exp(-2*I*\\theta)*exp(I*pi*p) + 2*I*Z_f*Z_i*Z_o*Z_r**2*exp(-I*\\Omega)*exp(I*\\psi)*exp(2*I*\\theta)*exp(I*pi*p) - 2*I*Z_f*Z_i*Z_o*Z_r**2*exp(-I*\\Omega)*exp(I*\\psi)*exp(-2*I*\\theta)*exp(I*pi*p) + 2*I*Z_f*Z_i*Z_o*Z_r**2*exp(-I*\\Omega)*exp(-I*\\psi)*exp(2*I*\\theta)*exp(I*pi*p) - 2*I*Z_f*Z_i*Z_o*Z_r**2*exp(-I*\\Omega)*exp(-I*\\psi)*exp(-2*I*\\theta)*exp(I*pi*p) + 2*I*Z_f*Z_i*Z_r**2*exp(I*\\psi)*exp(2*I*\\theta)*exp(I*pi*p) - 2*I*Z_f*Z_i*Z_r**2*exp(I*\\psi)*exp(-2*I*\\theta)*exp(I*pi*p) + 2*I*Z_f*Z_i*Z_r**2*exp(-I*\\psi)*exp(2*I*\\theta)*exp(I*pi*p) - 2*I*Z_f*Z_i*Z_r**2*exp(-I*\\psi)*exp(-2*I*\\theta)*exp(I*pi*p) + 2*I*Z_f*Z_o*Z_r**2*exp(I*\\psi)*exp(2*I*\\theta)*exp(I*pi*p) - 2*I*Z_f*Z_o*Z_r**2*exp(I*\\psi)*exp(-2*I*\\theta)*exp(I*pi*p) + 2*I*Z_f*Z_o*Z_r**2*exp(-I*\\psi)*exp(2*I*\\theta)*exp(I*pi*p) - 2*I*Z_f*Z_o*Z_r**2*exp(-I*\\psi)*exp(-2*I*\\theta)*exp(I*pi*p) - 2*I*Z_i*Z_o*Z_r**2*exp(I*\\psi)*exp(2*I*\\theta)*exp(I*pi*p) + 4*I*Z_i*Z_o*Z_r**2*exp(I*\\psi)*exp(I*pi*p) - 2*I*Z_i*Z_o*Z_r**2*exp(I*\\psi)*exp(-2*I*\\theta)*exp(I*pi*p) - 2*I*Z_i*Z_o*Z_r**2*exp(-I*\\psi)*exp(2*I*\\theta)*exp(I*pi*p) + 4*I*Z_i*Z_o*Z_r**2*exp(-I*\\psi)*exp(I*pi*p) - 2*I*Z_i*Z_o*Z_r**2*exp(-I*\\psi)*exp(-2*I*\\theta)*exp(I*pi*p)"
      ]
     },
     "execution_count": 90,
     "metadata": {},
     "output_type": "execute_result"
    }
   ],
   "source": [
    "sympy.expand((sympy.factor(dDdZ_short.rewrite(sympy.exp))-sympy.factor(corrections[Z2-Zr]).rewrite(sympy.exp)).xreplace({n:sympy.Symbol('p')}))"
   ]
  },
  {
   "cell_type": "code",
   "execution_count": 114,
   "metadata": {
    "ExecuteTime": {
     "end_time": "2019-05-14T13:16:52.082851Z",
     "start_time": "2019-05-14T13:16:52.075848Z"
    }
   },
   "outputs": [
    {
     "data": {
      "text/latex": [
       "$\\displaystyle 0$"
      ],
      "text/plain": [
       "0"
      ]
     },
     "execution_count": 114,
     "metadata": {},
     "output_type": "execute_result"
    }
   ],
   "source": [
    "corrections[C_c**2*kappa/2]"
   ]
  },
  {
   "cell_type": "markdown",
   "metadata": {},
   "source": [
    "## easy cases"
   ]
  },
  {
   "cell_type": "markdown",
   "metadata": {},
   "source": [
    "### feedline missing"
   ]
  },
  {
   "cell_type": "code",
   "execution_count": 67,
   "metadata": {
    "ExecuteTime": {
     "end_time": "2019-05-13T20:31:27.660151Z",
     "start_time": "2019-05-13T20:30:34.504054Z"
    },
    "collapsed": true
   },
   "outputs": [],
   "source": [
    "Yo = sympy.Symbol('Y_o')\n",
    "Yi = sympy.Symbol('Y_i')\n",
    "simple_cases = {'nof': {Omega:0},\n",
    "                'matched': {Zo:Zf, Zi:Zf, Za:Zf},\n",
    "                'matched-input-open': {Zo:1/Yo, Zi:Zf, Za:Zf},\n",
    "                'matched-input-short': {Zo:0, Zi:Zf, Za:Zf},\n",
    "                'matched-input-arbitrary': {Zi:Zf, Za:Zf}}\n",
    "subs_zero_admittance = {Yo:0, Yi:0}\n",
    "\n",
    "dDdf_simple_cases = {key:sympy.simplify(dDdf.xreplace(subs)) for key,subs in simple_cases.items()}\n",
    "dDdZ_simple_cases = {key:dDdZ_short.xreplace(subs) for key,subs in simple_cases.items()}\n",
    "d2Ddk2_simple_cases = {key:d2Ddk2_short.xreplace(subs) for key,subs in simple_cases.items()}\n",
    "dfdZf_simple_cases = {key:-sympy.simplify(sympy.expand(sympy.ratsimp(sympy.nsimplify(2)*sympy.pi*dDdZ_short.xreplace(subs)/\\\n",
    "                     (dDdf.xreplace(subs).rewrite(sympy.exp)*zeroth_order_solution)).xreplace(subs_zero_admittance).rewrite(sympy.cos)))\\\n",
    "                     for key,subs in simple_cases.items()}\n",
    "dfdk2f_simple_cases = {key:-sympy.simplify(sympy.expand(sympy.ratsimp(sympy.nsimplify(2)*sympy.pi*d2Ddk2_short.xreplace(subs)/\\\n",
    "                     (dDdf.xreplace(subs).rewrite(sympy.exp)*zeroth_order_solution)).xreplace(subs_zero_admittance).rewrite(sympy.cos)))\\\n",
    "                     for key,subs in simple_cases.items()}\n",
    "#corrections_simple_cases = {key:sympy.ratsimp(d2Ddk2_short.xreplace(subs)) for key,subs in simple_cases.items()}"
   ]
  },
  {
   "cell_type": "code",
   "execution_count": 77,
   "metadata": {
    "ExecuteTime": {
     "end_time": "2019-05-14T12:06:03.982708Z",
     "start_time": "2019-05-14T12:06:03.969763Z"
    },
    "collapsed": true
   },
   "outputs": [],
   "source": [
    "dDdC_c_simple_cases = {key:-corrections[C_c].xreplace(subs) for key,subs in simple_cases.items()}"
   ]
  },
  {
   "cell_type": "code",
   "execution_count": 82,
   "metadata": {
    "ExecuteTime": {
     "end_time": "2019-05-14T12:07:48.648862Z",
     "start_time": "2019-05-14T12:07:47.886900Z"
    }
   },
   "outputs": [
    {
     "data": {
      "text/latex": [
       "$\\displaystyle \\frac{\\pi Z_{r} c_{l}^{2} \\left(2 p - 1\\right)}{2 \\left(l_{c} + l_{o} + l_{s}\\right)^{2}}$"
      ],
      "text/plain": [
       "pi*Z_r*c_l**2*(2*p - 1)/(2*(l_c + l_o + l_s)**2)"
      ]
     },
     "execution_count": 82,
     "metadata": {},
     "output_type": "execute_result"
    }
   ],
   "source": [
    "sympy.simplify(-dDdC_c_simple_cases['matched-input-arbitrary']/dDdf_simple_cases['matched-input-arbitrary'])"
   ]
  },
  {
   "cell_type": "code",
   "execution_count": 68,
   "metadata": {
    "ExecuteTime": {
     "end_time": "2019-05-13T20:32:00.056486Z",
     "start_time": "2019-05-13T20:31:53.838088Z"
    }
   },
   "outputs": [
    {
     "data": {
      "text/latex": [
       "$\\displaystyle \\frac{\\left(-1\\right)^{p + 1} \\left(3 i Z_{f}^{2} \\left(\\sin{\\left(\\psi - 2 \\theta \\right)} - \\sin{\\left(\\psi + 2 \\theta \\right)}\\right) + 12 Z_{f}^{2} \\sin^{2}{\\left(\\theta \\right)} \\cos{\\left(\\psi \\right)} - 2 i Z_{f} Z_{i} \\left(\\sin{\\left(\\psi - 2 \\theta \\right)} - \\sin{\\left(\\psi + 2 \\theta \\right)}\\right) - Z_{f} Z_{i} \\left(\\cos{\\left(\\psi - 2 \\theta \\right)} - \\cos{\\left(\\psi + 2 \\theta \\right)}\\right) - 4 i Z_{f} Z_{i} \\sin{\\left(\\psi \\right)} \\sin^{2}{\\left(\\theta \\right)} + 4 i Z_{f} Z_{i} \\sin{\\left(\\theta \\right)} + 8 Z_{f} Z_{i} \\cos{\\left(\\psi \\right)} \\cos^{2}{\\left(\\theta \\right)} + 4 Z_{f} Z_{i} \\cos{\\left(\\theta \\right)} - 2 i Z_{f} Z_{o} \\left(\\sin{\\left(\\psi - 2 \\theta \\right)} - \\sin{\\left(\\psi + 2 \\theta \\right)}\\right) + Z_{f} Z_{o} \\left(\\cos{\\left(\\psi - 2 \\theta \\right)} - \\cos{\\left(\\psi + 2 \\theta \\right)}\\right) + 4 i Z_{f} Z_{o} \\sin{\\left(\\psi \\right)} \\sin^{2}{\\left(\\theta \\right)} + 4 i Z_{f} Z_{o} \\sin{\\left(\\theta \\right)} + 8 Z_{f} Z_{o} \\cos{\\left(\\psi \\right)} \\cos^{2}{\\left(\\theta \\right)} + 4 Z_{f} Z_{o} \\cos{\\left(\\theta \\right)} + i Z_{i} Z_{o} \\left(\\sin{\\left(\\psi - 2 \\theta \\right)} - \\sin{\\left(\\psi + 2 \\theta \\right)}\\right) + 4 Z_{i} Z_{o} \\sin^{2}{\\left(\\theta \\right)} \\cos{\\left(\\psi \\right)}\\right) \\sin{\\left(\\theta \\right)}}{2 Z_{f}^{2} n \\sin{\\left(\\theta \\right)} \\sin{\\left(\\theta + \\pi p \\right)} - 2 i Z_{f}^{2} n \\sin{\\left(\\theta \\right)} \\cos{\\left(\\theta + \\pi p \\right)} - Z_{f}^{2} \\sin{\\left(\\theta \\right)} \\sin{\\left(\\theta + \\pi p \\right)} + i Z_{f}^{2} \\sin{\\left(\\theta \\right)} \\cos{\\left(\\theta + \\pi p \\right)} - 2 Z_{f} Z_{i} n \\sin{\\left(\\theta \\right)} \\sin{\\left(\\theta + \\pi p \\right)} + 2 i Z_{f} Z_{i} n \\sin{\\left(\\theta \\right)} \\cos{\\left(\\theta + \\pi p \\right)} + 2 i Z_{f} Z_{i} n \\sin{\\left(\\pi p \\right)} + 2 Z_{f} Z_{i} n \\cos{\\left(\\pi p \\right)} + Z_{f} Z_{i} \\sin{\\left(\\theta \\right)} \\sin{\\left(\\theta + \\pi p \\right)} - i Z_{f} Z_{i} \\sin{\\left(\\theta \\right)} \\cos{\\left(\\theta + \\pi p \\right)} - i Z_{f} Z_{i} \\sin{\\left(\\pi p \\right)} - Z_{f} Z_{i} \\cos{\\left(\\pi p \\right)} - 2 Z_{f} Z_{o} n \\sin{\\left(\\theta \\right)} \\sin{\\left(\\theta + \\pi p \\right)} + 2 i Z_{f} Z_{o} n \\sin{\\left(\\theta \\right)} \\cos{\\left(\\theta + \\pi p \\right)} + 2 i Z_{f} Z_{o} n \\sin{\\left(\\pi p \\right)} + 2 Z_{f} Z_{o} n \\cos{\\left(\\pi p \\right)} + Z_{f} Z_{o} \\sin{\\left(\\theta \\right)} \\sin{\\left(\\theta + \\pi p \\right)} - i Z_{f} Z_{o} \\sin{\\left(\\theta \\right)} \\cos{\\left(\\theta + \\pi p \\right)} - i Z_{f} Z_{o} \\sin{\\left(\\pi p \\right)} - Z_{f} Z_{o} \\cos{\\left(\\pi p \\right)} + 2 Z_{i} Z_{o} n \\sin{\\left(\\theta \\right)} \\sin{\\left(\\theta + \\pi p \\right)} - 2 i Z_{i} Z_{o} n \\sin{\\left(\\theta \\right)} \\cos{\\left(\\theta + \\pi p \\right)} - Z_{i} Z_{o} \\sin{\\left(\\theta \\right)} \\sin{\\left(\\theta + \\pi p \\right)} + i Z_{i} Z_{o} \\sin{\\left(\\theta \\right)} \\cos{\\left(\\theta + \\pi p \\right)}}$"
      ],
      "text/plain": [
       "(-1)**(p + 1)*(3*I*Z_f**2*(sin(\\psi - 2*\\theta) - sin(\\psi + 2*\\theta)) + 12*Z_f**2*sin(\\theta)**2*cos(\\psi) - 2*I*Z_f*Z_i*(sin(\\psi - 2*\\theta) - sin(\\psi + 2*\\theta)) - Z_f*Z_i*(cos(\\psi - 2*\\theta) - cos(\\psi + 2*\\theta)) - 4*I*Z_f*Z_i*sin(\\psi)*sin(\\theta)**2 + 4*I*Z_f*Z_i*sin(\\theta) + 8*Z_f*Z_i*cos(\\psi)*cos(\\theta)**2 + 4*Z_f*Z_i*cos(\\theta) - 2*I*Z_f*Z_o*(sin(\\psi - 2*\\theta) - sin(\\psi + 2*\\theta)) + Z_f*Z_o*(cos(\\psi - 2*\\theta) - cos(\\psi + 2*\\theta)) + 4*I*Z_f*Z_o*sin(\\psi)*sin(\\theta)**2 + 4*I*Z_f*Z_o*sin(\\theta) + 8*Z_f*Z_o*cos(\\psi)*cos(\\theta)**2 + 4*Z_f*Z_o*cos(\\theta) + I*Z_i*Z_o*(sin(\\psi - 2*\\theta) - sin(\\psi + 2*\\theta)) + 4*Z_i*Z_o*sin(\\theta)**2*cos(\\psi))*sin(\\theta)/(2*Z_f**2*n*sin(\\theta)*sin(\\theta + pi*p) - 2*I*Z_f**2*n*sin(\\theta)*cos(\\theta + pi*p) - Z_f**2*sin(\\theta)*sin(\\theta + pi*p) + I*Z_f**2*sin(\\theta)*cos(\\theta + pi*p) - 2*Z_f*Z_i*n*sin(\\theta)*sin(\\theta + pi*p) + 2*I*Z_f*Z_i*n*sin(\\theta)*cos(\\theta + pi*p) + 2*I*Z_f*Z_i*n*sin(pi*p) + 2*Z_f*Z_i*n*cos(pi*p) + Z_f*Z_i*sin(\\theta)*sin(\\theta + pi*p) - I*Z_f*Z_i*sin(\\theta)*cos(\\theta + pi*p) - I*Z_f*Z_i*sin(pi*p) - Z_f*Z_i*cos(pi*p) - 2*Z_f*Z_o*n*sin(\\theta)*sin(\\theta + pi*p) + 2*I*Z_f*Z_o*n*sin(\\theta)*cos(\\theta + pi*p) + 2*I*Z_f*Z_o*n*sin(pi*p) + 2*Z_f*Z_o*n*cos(pi*p) + Z_f*Z_o*sin(\\theta)*sin(\\theta + pi*p) - I*Z_f*Z_o*sin(\\theta)*cos(\\theta + pi*p) - I*Z_f*Z_o*sin(pi*p) - Z_f*Z_o*cos(pi*p) + 2*Z_i*Z_o*n*sin(\\theta)*sin(\\theta + pi*p) - 2*I*Z_i*Z_o*n*sin(\\theta)*cos(\\theta + pi*p) - Z_i*Z_o*sin(\\theta)*sin(\\theta + pi*p) + I*Z_i*Z_o*sin(\\theta)*cos(\\theta + pi*p))"
      ]
     },
     "execution_count": 68,
     "metadata": {},
     "output_type": "execute_result"
    }
   ],
   "source": [
    "sympy.simplify(dfdk2f_simple_cases['nof'])"
   ]
  },
  {
   "cell_type": "code",
   "execution_count": 69,
   "metadata": {
    "ExecuteTime": {
     "end_time": "2019-05-13T20:32:27.091188Z",
     "start_time": "2019-05-13T20:32:26.877756Z"
    }
   },
   "outputs": [
    {
     "data": {
      "text/latex": [
       "$\\displaystyle - \\frac{4 \\sin^{2}{\\left(\\theta \\right)}}{2 n - 1}$"
      ],
      "text/plain": [
       "-4*sin(\\theta)**2/(2*n - 1)"
      ]
     },
     "execution_count": 69,
     "metadata": {},
     "output_type": "execute_result"
    }
   ],
   "source": [
    "sympy.simplify(sympy.im(dfdk2f_simple_cases['matched'].rewrite(sympy.exp)))"
   ]
  },
  {
   "cell_type": "code",
   "execution_count": 70,
   "metadata": {
    "ExecuteTime": {
     "end_time": "2019-05-13T20:32:55.314722Z",
     "start_time": "2019-05-13T20:32:54.058083Z"
    }
   },
   "outputs": [
    {
     "data": {
      "text/latex": [
       "$\\displaystyle - \\frac{4 \\left(\\cos{\\left(2 \\Omega - \\psi + \\theta \\right)} + 1\\right) \\sin^{2}{\\left(\\theta \\right)}}{2 n - 1}$"
      ],
      "text/plain": [
       "-4*(cos(2*\\Omega - \\psi + \\theta) + 1)*sin(\\theta)**2/(2*n - 1)"
      ]
     },
     "execution_count": 70,
     "metadata": {},
     "output_type": "execute_result"
    }
   ],
   "source": [
    "Omegatwice = sympy.Symbol('\\\\Omega_{2}', positive=True)\n",
    "sympy.simplify(sympy.im(sympy.simplify(dfdk2f_simple_cases['matched-input-open']).xreplace({Omega:Omegatwice/2}).rewrite(sympy.exp))).xreplace({Omegatwice:Omega*2})"
   ]
  },
  {
   "cell_type": "code",
   "execution_count": 71,
   "metadata": {
    "ExecuteTime": {
     "end_time": "2019-05-13T20:33:24.132674Z",
     "start_time": "2019-05-13T20:33:23.141327Z"
    }
   },
   "outputs": [
    {
     "data": {
      "text/latex": [
       "$\\displaystyle \\frac{4 \\left(\\cos{\\left(2 \\Omega - \\psi + \\theta \\right)} - 1\\right) \\sin^{2}{\\left(\\theta \\right)}}{2 n - 1}$"
      ],
      "text/plain": [
       "4*(cos(2*\\Omega - \\psi + \\theta) - 1)*sin(\\theta)**2/(2*n - 1)"
      ]
     },
     "execution_count": 71,
     "metadata": {},
     "output_type": "execute_result"
    }
   ],
   "source": [
    "Omegatwice = sympy.Symbol('\\\\Omega_{2}', positive=True)\n",
    "sympy.simplify(sympy.im(sympy.simplify(dfdk2f_simple_cases['matched-input-short']).xreplace({Omega:Omegatwice/2}).rewrite(sympy.exp))).xreplace({Omegatwice:Omega*2})"
   ]
  },
  {
   "cell_type": "code",
   "execution_count": 76,
   "metadata": {
    "ExecuteTime": {
     "end_time": "2019-05-14T11:15:14.661769Z",
     "start_time": "2019-05-14T11:15:09.865577Z"
    }
   },
   "outputs": [
    {
     "data": {
      "text/latex": [
       "$\\displaystyle \\frac{4 \\left(Z_{m} \\cos{\\left(\\Psi \\right)} - Z_{p}\\right) \\sin^{2}{\\left(\\theta \\right)}}{Z_{p} \\left(2 n - 1\\right)}$"
      ],
      "text/plain": [
       "4*(Z_m*cos(\\Psi) - Z_p)*sin(\\theta)**2/(Z_p*(2*n - 1))"
      ]
     },
     "execution_count": 76,
     "metadata": {},
     "output_type": "execute_result"
    }
   ],
   "source": [
    "Omegatwice = sympy.Symbol('\\\\Omega_{2}', positive=True)\n",
    "Psi = sympy.Symbol('\\\\Psi', positive=True)\n",
    "Zp, Zm = sympy.symbols('Z_p, Z_m', positive=True)\n",
    "Psi_subs = psi-Omegatwice-theta\n",
    "subs = {Zf:(Zp+Zm)/2, Zo:(Zp-Zm)/2, psi:Psi+Omegatwice+theta}\n",
    "sympy.simplify(sympy.im(sympy.simplify(dfdk2f_simple_cases['matched-input-arbitrary']).xreplace({Omega:Omegatwice/2}).rewrite(sympy.exp).xreplace(subs))).xreplace({Omegatwice:Omega*2})"
   ]
  },
  {
   "cell_type": "code",
   "execution_count": 73,
   "metadata": {
    "ExecuteTime": {
     "end_time": "2019-05-13T20:34:26.266577Z",
     "start_time": "2019-05-13T20:34:26.259572Z"
    }
   },
   "outputs": [
    {
     "data": {
      "text/plain": [
       "{\\theta: pi*\\lambda_c*(n - 1/2),\n",
       " \\phi: pi*(\\lambda_c/2 + \\lambda_o)*(n - 1/2),\n",
       " \\psi: 2*pi*(\\lambda_c/2 + \\lambda_o)*(n - 1/2),\n",
       " \\Omega: pi*\\lambda_f*(n - 1/2)}"
      ]
     },
     "execution_count": 73,
     "metadata": {},
     "output_type": "execute_result"
    }
   ],
   "source": [
    "inv_ang_subs"
   ]
  },
  {
   "cell_type": "code",
   "execution_count": 74,
   "metadata": {
    "ExecuteTime": {
     "end_time": "2019-05-13T20:34:52.919308Z",
     "start_time": "2019-05-13T20:34:52.822554Z"
    }
   },
   "outputs": [
    {
     "data": {
      "text/latex": [
       "$\\displaystyle - \\frac{4 \\sin^{2}{\\left(\\theta \\right)}}{2 n - 1}$"
      ],
      "text/plain": [
       "-4*sin(\\theta)**2/(2*n - 1)"
      ]
     },
     "execution_count": 74,
     "metadata": {},
     "output_type": "execute_result"
    }
   ],
   "source": [
    "sympy.simplify(sympy.im(dfdk2f_simple_cases['matched'].rewrite(sympy.exp)))"
   ]
  },
  {
   "cell_type": "code",
   "execution_count": 66,
   "metadata": {
    "ExecuteTime": {
     "end_time": "2019-05-06T09:17:17.239784Z",
     "start_time": "2019-05-06T09:17:11.708211Z"
    },
    "collapsed": true
   },
   "outputs": [],
   "source": [
    "Yo = sympy.Symbol('Y_o')\n",
    "Yi = sympy.Symbol('Y_i')\n",
    "simple_cases = {'mm': {Zi:Zf, Zo:Zf},\n",
    "                'ms': {Zi:Zf, Zo:0},\n",
    "                'sm': {Zi:0,  Zo:Zf},\n",
    "                'mo': {Zi:Zf, Zo:1/Yo},\n",
    "                'om': {Zi:1/Yi, Zo:Zf}}\n",
    "subs_zero_admittance = {Yo:0, Yi:0}\n",
    "\n",
    "dDdf_simple_cases = {key:sympy.ratsimp(dDdf.xreplace(subs).rewrite(sympy.exp)) for key,subs in simple_cases.items()}\n",
    "dDdZ_simple_cases = {key:sympy.ratsimp(dDdZ_short.xreplace(subs)) for key,subs in simple_cases.items()}\n",
    "d2Ddk2_simple_cases = {key:sympy.ratsimp(d2Ddk2_short.xreplace(subs)) for key,subs in simple_cases.items()}\n",
    "dfdZf_simple_cases = {key:-sympy.simplify(sympy.expand(sympy.ratsimp(sympy.nsimplify(2)*sympy.pi*dDdZ_short.xreplace(subs)/\\\n",
    "                     (dDdf.xreplace(subs).rewrite(sympy.exp)*zeroth_order_solution)).xreplace(subs_zero_admittance).rewrite(sympy.cos)))\\\n",
    "                     for key,subs in simple_cases.items()}\n",
    "dfdk2f_simple_cases = {key:-sympy.simplify(sympy.expand(sympy.ratsimp(sympy.nsimplify(2)*sympy.pi*d2Ddk2_short.xreplace(subs)/\\\n",
    "                     (dDdf.xreplace(subs).rewrite(sympy.exp)*zeroth_order_solution)).xreplace(subs_zero_admittance).rewrite(sympy.cos)))\\\n",
    "                     for key,subs in simple_cases.items()}\n",
    "#corrections_simple_cases = {key:sympy.ratsimp(d2Ddk2_short.xreplace(subs)) for key,subs in simple_cases.items()}"
   ]
  },
  {
   "cell_type": "markdown",
   "metadata": {},
   "source": [
    "## matched in, matched out"
   ]
  },
  {
   "cell_type": "code",
   "execution_count": 68,
   "metadata": {
    "ExecuteTime": {
     "end_time": "2019-05-06T09:18:40.398715Z",
     "start_time": "2019-05-06T09:18:28.033123Z"
    }
   },
   "outputs": [
    {
     "name": "stdout",
     "output_type": "stream",
     "text": [
      "mm {Z_i: Z_f, Z_o: Z_f}\n",
      "\\Delta f_p = - \\frac{c_{l} \\left(Z_{r} \\kappa^{2} \\sin{\\left(\\theta \\right)} \\sin{\\left(\\pi \\operatorname{re}{\\left(p\\right)} \\right)} \\operatorname{re}{\\left(\\left(-1\\right)^{i \\operatorname{im}{\\left(p\\right)}} \\left(-1\\right)^{\\operatorname{re}{\\left(p\\right)}}\\right)} - Z_{r} \\kappa^{2} \\sin{\\left(\\theta \\right)} \\cos{\\left(\\pi \\operatorname{re}{\\left(p\\right)} \\right)} \\operatorname{im}{\\left(\\left(-1\\right)^{i \\operatorname{im}{\\left(p\\right)}} \\left(-1\\right)^{\\operatorname{re}{\\left(p\\right)}}\\right)} + 2 Z_{r} \\kappa^{2} \\sin{\\left(\\pi \\operatorname{re}{\\left(p\\right)} \\right)} \\cos{\\left(\\psi \\right)} \\operatorname{im}{\\left(\\left(-1\\right)^{i \\operatorname{im}{\\left(p\\right)}} \\left(-1\\right)^{\\operatorname{re}{\\left(p\\right)}}\\right)} + Z_{r} \\kappa^{2} \\sin{\\left(\\pi \\operatorname{re}{\\left(p\\right)} \\right)} \\cos{\\left(\\theta \\right)} \\operatorname{im}{\\left(\\left(-1\\right)^{i \\operatorname{im}{\\left(p\\right)}} \\left(-1\\right)^{\\operatorname{re}{\\left(p\\right)}}\\right)} + 2 Z_{r} \\kappa^{2} \\cos{\\left(\\psi \\right)} \\cos{\\left(\\pi \\operatorname{re}{\\left(p\\right)} \\right)} \\operatorname{re}{\\left(\\left(-1\\right)^{i \\operatorname{im}{\\left(p\\right)}} \\left(-1\\right)^{\\operatorname{re}{\\left(p\\right)}}\\right)} + Z_{r} \\kappa^{2} \\cos{\\left(\\theta \\right)} \\cos{\\left(\\pi \\operatorname{re}{\\left(p\\right)} \\right)} \\operatorname{re}{\\left(\\left(-1\\right)^{i \\operatorname{im}{\\left(p\\right)}} \\left(-1\\right)^{\\operatorname{re}{\\left(p\\right)}}\\right)} - 2 \\left(Z_{2} - Z_{r}\\right) \\sin{\\left(\\pi \\operatorname{re}{\\left(p\\right)} \\right)} \\cos{\\left(\\psi \\right)} \\operatorname{im}{\\left(\\left(-1\\right)^{i \\operatorname{im}{\\left(p\\right)}} \\left(-1\\right)^{\\operatorname{re}{\\left(p\\right)}}\\right)} - 2 \\left(Z_{2} - Z_{r}\\right) \\cos{\\left(\\psi \\right)} \\cos{\\left(\\pi \\operatorname{re}{\\left(p\\right)} \\right)} \\operatorname{re}{\\left(\\left(-1\\right)^{i \\operatorname{im}{\\left(p\\right)}} \\left(-1\\right)^{\\operatorname{re}{\\left(p\\right)}}\\right)}\\right) \\sin{\\left(\\theta \\right)}}{4 \\pi Z_{r} \\left(\\sin^{2}{\\left(\\pi \\operatorname{re}{\\left(p\\right)} \\right)} + \\cos^{2}{\\left(\\pi \\operatorname{re}{\\left(p\\right)} \\right)}\\right) \\left(- \\sinh{\\left(\\pi \\operatorname{im}{\\left(p\\right)} \\right)} + \\cosh{\\left(\\pi \\operatorname{im}{\\left(p\\right)} \\right)}\\right) \\left(l_{c} + l_{o} + l_{s}\\right)}\n",
      "Q_p = - \\frac{\\pi Z_{r} \\left(2 p - 1\\right) \\left(\\sin^{2}{\\left(\\pi \\operatorname{re}{\\left(p\\right)} \\right)} + \\cos^{2}{\\left(\\pi \\operatorname{re}{\\left(p\\right)} \\right)}\\right) \\left(- \\sinh{\\left(\\pi \\operatorname{im}{\\left(p\\right)} \\right)} + \\cosh{\\left(\\pi \\operatorname{im}{\\left(p\\right)} \\right)}\\right)}{2 \\left(Z_{r} \\kappa^{2} \\sin{\\left(\\theta \\right)} \\sin{\\left(\\pi \\operatorname{re}{\\left(p\\right)} \\right)} \\operatorname{im}{\\left(\\left(-1\\right)^{i \\operatorname{im}{\\left(p\\right)}} \\left(-1\\right)^{\\operatorname{re}{\\left(p\\right)}}\\right)} + Z_{r} \\kappa^{2} \\sin{\\left(\\theta \\right)} \\cos{\\left(\\pi \\operatorname{re}{\\left(p\\right)} \\right)} \\operatorname{re}{\\left(\\left(-1\\right)^{i \\operatorname{im}{\\left(p\\right)}} \\left(-1\\right)^{\\operatorname{re}{\\left(p\\right)}}\\right)} - 2 Z_{r} \\kappa^{2} \\sin{\\left(\\pi \\operatorname{re}{\\left(p\\right)} \\right)} \\cos{\\left(\\psi \\right)} \\operatorname{re}{\\left(\\left(-1\\right)^{i \\operatorname{im}{\\left(p\\right)}} \\left(-1\\right)^{\\operatorname{re}{\\left(p\\right)}}\\right)} - Z_{r} \\kappa^{2} \\sin{\\left(\\pi \\operatorname{re}{\\left(p\\right)} \\right)} \\cos{\\left(\\theta \\right)} \\operatorname{re}{\\left(\\left(-1\\right)^{i \\operatorname{im}{\\left(p\\right)}} \\left(-1\\right)^{\\operatorname{re}{\\left(p\\right)}}\\right)} + 2 Z_{r} \\kappa^{2} \\cos{\\left(\\psi \\right)} \\cos{\\left(\\pi \\operatorname{re}{\\left(p\\right)} \\right)} \\operatorname{im}{\\left(\\left(-1\\right)^{i \\operatorname{im}{\\left(p\\right)}} \\left(-1\\right)^{\\operatorname{re}{\\left(p\\right)}}\\right)} + Z_{r} \\kappa^{2} \\cos{\\left(\\theta \\right)} \\cos{\\left(\\pi \\operatorname{re}{\\left(p\\right)} \\right)} \\operatorname{im}{\\left(\\left(-1\\right)^{i \\operatorname{im}{\\left(p\\right)}} \\left(-1\\right)^{\\operatorname{re}{\\left(p\\right)}}\\right)} + 2 \\left(Z_{2} - Z_{r}\\right) \\sin{\\left(\\pi \\operatorname{re}{\\left(p\\right)} \\right)} \\cos{\\left(\\psi \\right)} \\operatorname{re}{\\left(\\left(-1\\right)^{i \\operatorname{im}{\\left(p\\right)}} \\left(-1\\right)^{\\operatorname{re}{\\left(p\\right)}}\\right)} - 2 \\left(Z_{2} - Z_{r}\\right) \\cos{\\left(\\psi \\right)} \\cos{\\left(\\pi \\operatorname{re}{\\left(p\\right)} \\right)} \\operatorname{im}{\\left(\\left(-1\\right)^{i \\operatorname{im}{\\left(p\\right)}} \\left(-1\\right)^{\\operatorname{re}{\\left(p\\right)}}\\right)}\\right) \\sin{\\left(\\theta \\right)}}\n",
      "ms {Z_i: Z_f, Z_o: 0}\n",
      "\\Delta f_p = \\frac{c_{l} \\left(Z_{r} \\kappa^{2} \\sin{\\left(\\psi \\right)} \\sin{\\left(\\pi \\operatorname{re}{\\left(p\\right)} \\right)} \\operatorname{re}{\\left(\\left(-1\\right)^{i \\operatorname{im}{\\left(p\\right)}} \\left(-1\\right)^{\\operatorname{re}{\\left(p\\right)}}\\right)} - Z_{r} \\kappa^{2} \\sin{\\left(\\psi \\right)} \\cos{\\left(\\pi \\operatorname{re}{\\left(p\\right)} \\right)} \\operatorname{im}{\\left(\\left(-1\\right)^{i \\operatorname{im}{\\left(p\\right)}} \\left(-1\\right)^{\\operatorname{re}{\\left(p\\right)}}\\right)} - 2 Z_{r} \\kappa^{2} \\sin{\\left(\\theta \\right)} \\sin{\\left(\\pi \\operatorname{re}{\\left(p\\right)} \\right)} \\operatorname{re}{\\left(\\left(-1\\right)^{i \\operatorname{im}{\\left(p\\right)}} \\left(-1\\right)^{\\operatorname{re}{\\left(p\\right)}}\\right)} + 2 Z_{r} \\kappa^{2} \\sin{\\left(\\theta \\right)} \\cos{\\left(\\pi \\operatorname{re}{\\left(p\\right)} \\right)} \\operatorname{im}{\\left(\\left(-1\\right)^{i \\operatorname{im}{\\left(p\\right)}} \\left(-1\\right)^{\\operatorname{re}{\\left(p\\right)}}\\right)} - Z_{r} \\kappa^{2} \\sin{\\left(\\pi \\operatorname{re}{\\left(p\\right)} \\right)} \\sin{\\left(\\psi - 2 \\theta \\right)} \\operatorname{re}{\\left(\\left(-1\\right)^{i \\operatorname{im}{\\left(p\\right)}} \\left(-1\\right)^{\\operatorname{re}{\\left(p\\right)}}\\right)} - 5 Z_{r} \\kappa^{2} \\sin{\\left(\\pi \\operatorname{re}{\\left(p\\right)} \\right)} \\cos{\\left(\\psi \\right)} \\operatorname{im}{\\left(\\left(-1\\right)^{i \\operatorname{im}{\\left(p\\right)}} \\left(-1\\right)^{\\operatorname{re}{\\left(p\\right)}}\\right)} - 2 Z_{r} \\kappa^{2} \\sin{\\left(\\pi \\operatorname{re}{\\left(p\\right)} \\right)} \\cos{\\left(\\theta \\right)} \\operatorname{im}{\\left(\\left(-1\\right)^{i \\operatorname{im}{\\left(p\\right)}} \\left(-1\\right)^{\\operatorname{re}{\\left(p\\right)}}\\right)} + Z_{r} \\kappa^{2} \\sin{\\left(\\pi \\operatorname{re}{\\left(p\\right)} \\right)} \\cos{\\left(\\psi - 2 \\theta \\right)} \\operatorname{im}{\\left(\\left(-1\\right)^{i \\operatorname{im}{\\left(p\\right)}} \\left(-1\\right)^{\\operatorname{re}{\\left(p\\right)}}\\right)} + Z_{r} \\kappa^{2} \\sin{\\left(\\psi - 2 \\theta \\right)} \\cos{\\left(\\pi \\operatorname{re}{\\left(p\\right)} \\right)} \\operatorname{im}{\\left(\\left(-1\\right)^{i \\operatorname{im}{\\left(p\\right)}} \\left(-1\\right)^{\\operatorname{re}{\\left(p\\right)}}\\right)} - 5 Z_{r} \\kappa^{2} \\cos{\\left(\\psi \\right)} \\cos{\\left(\\pi \\operatorname{re}{\\left(p\\right)} \\right)} \\operatorname{re}{\\left(\\left(-1\\right)^{i \\operatorname{im}{\\left(p\\right)}} \\left(-1\\right)^{\\operatorname{re}{\\left(p\\right)}}\\right)} - 2 Z_{r} \\kappa^{2} \\cos{\\left(\\theta \\right)} \\cos{\\left(\\pi \\operatorname{re}{\\left(p\\right)} \\right)} \\operatorname{re}{\\left(\\left(-1\\right)^{i \\operatorname{im}{\\left(p\\right)}} \\left(-1\\right)^{\\operatorname{re}{\\left(p\\right)}}\\right)} + Z_{r} \\kappa^{2} \\cos{\\left(\\pi \\operatorname{re}{\\left(p\\right)} \\right)} \\cos{\\left(\\psi - 2 \\theta \\right)} \\operatorname{re}{\\left(\\left(-1\\right)^{i \\operatorname{im}{\\left(p\\right)}} \\left(-1\\right)^{\\operatorname{re}{\\left(p\\right)}}\\right)} + 4 \\left(Z_{2} - Z_{r}\\right) \\sin{\\left(\\pi \\operatorname{re}{\\left(p\\right)} \\right)} \\cos{\\left(\\psi \\right)} \\operatorname{im}{\\left(\\left(-1\\right)^{i \\operatorname{im}{\\left(p\\right)}} \\left(-1\\right)^{\\operatorname{re}{\\left(p\\right)}}\\right)} + 4 \\left(Z_{2} - Z_{r}\\right) \\cos{\\left(\\psi \\right)} \\cos{\\left(\\pi \\operatorname{re}{\\left(p\\right)} \\right)} \\operatorname{re}{\\left(\\left(-1\\right)^{i \\operatorname{im}{\\left(p\\right)}} \\left(-1\\right)^{\\operatorname{re}{\\left(p\\right)}}\\right)}\\right) \\sin{\\left(\\theta \\right)}}{8 \\pi Z_{r} \\left(\\sin^{2}{\\left(\\pi \\operatorname{re}{\\left(p\\right)} \\right)} + \\cos^{2}{\\left(\\pi \\operatorname{re}{\\left(p\\right)} \\right)}\\right) \\left(- \\sinh{\\left(\\pi \\operatorname{im}{\\left(p\\right)} \\right)} + \\cosh{\\left(\\pi \\operatorname{im}{\\left(p\\right)} \\right)}\\right) \\left(l_{c} + l_{o} + l_{s}\\right)}\n",
      "Q_p = \\frac{\\pi Z_{r} \\left(2 p - 1\\right) \\left(\\sin^{2}{\\left(\\pi \\operatorname{re}{\\left(p\\right)} \\right)} + \\cos^{2}{\\left(\\pi \\operatorname{re}{\\left(p\\right)} \\right)}\\right) \\left(- \\sinh{\\left(\\pi \\operatorname{im}{\\left(p\\right)} \\right)} + \\cosh{\\left(\\pi \\operatorname{im}{\\left(p\\right)} \\right)}\\right)}{\\left(Z_{r} \\kappa^{2} \\sin{\\left(\\psi \\right)} \\sin{\\left(\\pi \\operatorname{re}{\\left(p\\right)} \\right)} \\operatorname{im}{\\left(\\left(-1\\right)^{i \\operatorname{im}{\\left(p\\right)}} \\left(-1\\right)^{\\operatorname{re}{\\left(p\\right)}}\\right)} + Z_{r} \\kappa^{2} \\sin{\\left(\\psi \\right)} \\cos{\\left(\\pi \\operatorname{re}{\\left(p\\right)} \\right)} \\operatorname{re}{\\left(\\left(-1\\right)^{i \\operatorname{im}{\\left(p\\right)}} \\left(-1\\right)^{\\operatorname{re}{\\left(p\\right)}}\\right)} - 2 Z_{r} \\kappa^{2} \\sin{\\left(\\theta \\right)} \\sin{\\left(\\pi \\operatorname{re}{\\left(p\\right)} \\right)} \\operatorname{im}{\\left(\\left(-1\\right)^{i \\operatorname{im}{\\left(p\\right)}} \\left(-1\\right)^{\\operatorname{re}{\\left(p\\right)}}\\right)} - 2 Z_{r} \\kappa^{2} \\sin{\\left(\\theta \\right)} \\cos{\\left(\\pi \\operatorname{re}{\\left(p\\right)} \\right)} \\operatorname{re}{\\left(\\left(-1\\right)^{i \\operatorname{im}{\\left(p\\right)}} \\left(-1\\right)^{\\operatorname{re}{\\left(p\\right)}}\\right)} - Z_{r} \\kappa^{2} \\sin{\\left(\\pi \\operatorname{re}{\\left(p\\right)} \\right)} \\sin{\\left(\\psi - 2 \\theta \\right)} \\operatorname{im}{\\left(\\left(-1\\right)^{i \\operatorname"
     ]
    },
    {
     "data": {
      "text/html": [
       "<b>limit_output extension: Maximum message size of 10000 exceeded with 12346 characters</b>"
      ]
     },
     "metadata": {},
     "output_type": "display_data"
    }
   ],
   "source": [
    "import IPython.core.display\n",
    "dZ2 = sympy.Symbol('\\\\Delta Z_2',real=True)\n",
    "df = {}\n",
    "Q = {}\n",
    "d_simple_cases = {}\n",
    "df_simple_cases = {}\n",
    "dm_simple_cases = {}\n",
    "Q_simple_cases = {}\n",
    "for simple_case in dfdZf_simple_cases.keys():\n",
    "    d_simple_cases[simple_case] = \\\n",
    "    sympy.collect(sympy.expand(dfdZf_simple_cases[simple_case]*dZ2+dfdk2f_simple_cases[simple_case]*kappa**sympy.nsimplify(2)/sympy.nsimplify(2), \\\n",
    "                 complex=True), sympy.I, evaluate=False)\n",
    "    df_simple_cases[simple_case] = sympy.factor((d_simple_cases[simple_case][sympy.singleton.SingletonRegistry.One]*(zeroth_order_solution/(sympy.nsimplify(2)*sympy.pi))).xreplace({n:sympy.Symbol('p')})).xreplace({ dZ2:(Z2-Zr)})\n",
    "    Q_simple_cases[simple_case] = sympy.factor((sympy.nsimplify(0.5)/d_simple_cases[simple_case][sympy.I]).xreplace({n:sympy.Symbol('p')})).xreplace({ dZ2:(Z2-Zr)})\n",
    "    print (simple_case, simple_cases[simple_case])\n",
    "    print ('\\\\Delta f_p = ' + sympy.latex(df_simple_cases[simple_case]))\n",
    "    print ('Q_p = '+sympy.latex(Q_simple_cases[simple_case]))\n",
    "    #print ('difference with matched: ', dm_simple_cases[simple_case])\n",
    "    \n",
    "dm_simple_cases = {simple_case:{k:d_simple_cases[simple_case][k]-d_simple_cases['mm'][k] \\\n",
    "                                for k in d_simple_cases[simple_case].keys()} \\\n",
    "                               for simple_case in dfdZf_simple_cases.keys()}\n",
    "dfm_simple_cases = {simple_case:sympy.ratsimp(df_simple_cases[simple_case]-df_simple_cases['mm']) \\\n",
    "                               for simple_case in dfdZf_simple_cases.keys()}\n",
    "Qm_simple_cases = {simple_case:sympy.ratsimp(Q_simple_cases[simple_case]**(-1)-Q_simple_cases['mm']**(-1)) \\\n",
    "                               for simple_case in dfdZf_simple_cases.keys()}\n",
    "print ('differences with matched: ', dfm_simple_cases, Qm_simple_cases)\n",
    "(dfm_simple_cases['ms'], Qm_simple_cases['ms'])"
   ]
  },
  {
   "cell_type": "code",
   "execution_count": 70,
   "metadata": {
    "ExecuteTime": {
     "end_time": "2019-05-06T09:20:24.055981Z",
     "start_time": "2019-05-06T09:20:24.012100Z"
    }
   },
   "outputs": [
    {
     "data": {
      "text/plain": [
       "{'mm': 0,\n",
       " 'mo': -(\\kappa**2*sin(\\psi)*sin(\\theta)*sin(pi*re(p))*im((-1)**(I*im(p))*(-1)**re(p)) + \\kappa**2*sin(\\psi)*sin(\\theta)*cos(pi*re(p))*re((-1)**(I*im(p))*(-1)**re(p)) - \\kappa**2*sin(\\theta)*sin(pi*re(p))*sin(\\psi - 2*\\theta)*im((-1)**(I*im(p))*(-1)**re(p)) + \\kappa**2*sin(\\theta)*sin(pi*re(p))*cos(\\psi)*re((-1)**(I*im(p))*(-1)**re(p)) - \\kappa**2*sin(\\theta)*sin(pi*re(p))*cos(\\psi - 2*\\theta)*re((-1)**(I*im(p))*(-1)**re(p)) - \\kappa**2*sin(\\theta)*sin(\\psi - 2*\\theta)*cos(pi*re(p))*re((-1)**(I*im(p))*(-1)**re(p)) - \\kappa**2*sin(\\theta)*cos(\\psi)*cos(pi*re(p))*im((-1)**(I*im(p))*(-1)**re(p)) + \\kappa**2*sin(\\theta)*cos(pi*re(p))*cos(\\psi - 2*\\theta)*im((-1)**(I*im(p))*(-1)**re(p)))/(-2*pi*p*sin(pi*re(p))**2*sinh(pi*im(p)) + 2*pi*p*sin(pi*re(p))**2*cosh(pi*im(p)) - 2*pi*p*cos(pi*re(p))**2*sinh(pi*im(p)) + 2*pi*p*cos(pi*re(p))**2*cosh(pi*im(p)) + pi*sin(pi*re(p))**2*sinh(pi*im(p)) - pi*sin(pi*re(p))**2*cosh(pi*im(p)) + pi*cos(pi*re(p))**2*sinh(pi*im(p)) - pi*cos(pi*re(p))**2*cosh(pi*im(p))),\n",
       " 'ms': (\\kappa**2*sin(\\psi)*sin(\\theta)*sin(pi*re(p))*im((-1)**(I*im(p))*(-1)**re(p)) + \\kappa**2*sin(\\psi)*sin(\\theta)*cos(pi*re(p))*re((-1)**(I*im(p))*(-1)**re(p)) - \\kappa**2*sin(\\theta)*sin(pi*re(p))*sin(\\psi - 2*\\theta)*im((-1)**(I*im(p))*(-1)**re(p)) + \\kappa**2*sin(\\theta)*sin(pi*re(p))*cos(\\psi)*re((-1)**(I*im(p))*(-1)**re(p)) - \\kappa**2*sin(\\theta)*sin(pi*re(p))*cos(\\psi - 2*\\theta)*re((-1)**(I*im(p))*(-1)**re(p)) - \\kappa**2*sin(\\theta)*sin(\\psi - 2*\\theta)*cos(pi*re(p))*re((-1)**(I*im(p))*(-1)**re(p)) - \\kappa**2*sin(\\theta)*cos(\\psi)*cos(pi*re(p))*im((-1)**(I*im(p))*(-1)**re(p)) + \\kappa**2*sin(\\theta)*cos(pi*re(p))*cos(\\psi - 2*\\theta)*im((-1)**(I*im(p))*(-1)**re(p)))/(-2*pi*p*sin(pi*re(p))**2*sinh(pi*im(p)) + 2*pi*p*sin(pi*re(p))**2*cosh(pi*im(p)) - 2*pi*p*cos(pi*re(p))**2*sinh(pi*im(p)) + 2*pi*p*cos(pi*re(p))**2*cosh(pi*im(p)) + pi*sin(pi*re(p))**2*sinh(pi*im(p)) - pi*sin(pi*re(p))**2*cosh(pi*im(p)) + pi*cos(pi*re(p))**2*sinh(pi*im(p)) - pi*cos(pi*re(p))**2*cosh(pi*im(p))),\n",
       " 'om': -(-\\kappa**2*sin(\\psi)*sin(\\theta)*sin(pi*re(p))*im((-1)**(I*im(p))*(-1)**re(p)) - \\kappa**2*sin(\\psi)*sin(\\theta)*cos(pi*re(p))*re((-1)**(I*im(p))*(-1)**re(p)) + \\kappa**2*sin(\\theta)*sin(pi*re(p))*sin(\\psi + 2*\\theta)*im((-1)**(I*im(p))*(-1)**re(p)) + \\kappa**2*sin(\\theta)*sin(pi*re(p))*cos(\\psi)*re((-1)**(I*im(p))*(-1)**re(p)) - \\kappa**2*sin(\\theta)*sin(pi*re(p))*cos(\\psi + 2*\\theta)*re((-1)**(I*im(p))*(-1)**re(p)) + \\kappa**2*sin(\\theta)*sin(\\psi + 2*\\theta)*cos(pi*re(p))*re((-1)**(I*im(p))*(-1)**re(p)) - \\kappa**2*sin(\\theta)*cos(\\psi)*cos(pi*re(p))*im((-1)**(I*im(p))*(-1)**re(p)) + \\kappa**2*sin(\\theta)*cos(pi*re(p))*cos(\\psi + 2*\\theta)*im((-1)**(I*im(p))*(-1)**re(p)))/(-2*pi*p*sin(pi*re(p))**2*sinh(pi*im(p)) + 2*pi*p*sin(pi*re(p))**2*cosh(pi*im(p)) - 2*pi*p*cos(pi*re(p))**2*sinh(pi*im(p)) + 2*pi*p*cos(pi*re(p))**2*cosh(pi*im(p)) + pi*sin(pi*re(p))**2*sinh(pi*im(p)) - pi*sin(pi*re(p))**2*cosh(pi*im(p)) + pi*cos(pi*re(p))**2*sinh(pi*im(p)) - pi*cos(pi*re(p))**2*cosh(pi*im(p))),\n",
       " 'sm': (-\\kappa**2*sin(\\psi)*sin(\\theta)*sin(pi*re(p))*im((-1)**(I*im(p))*(-1)**re(p)) - \\kappa**2*sin(\\psi)*sin(\\theta)*cos(pi*re(p))*re((-1)**(I*im(p))*(-1)**re(p)) + \\kappa**2*sin(\\theta)*sin(pi*re(p))*sin(\\psi + 2*\\theta)*im((-1)**(I*im(p))*(-1)**re(p)) + \\kappa**2*sin(\\theta)*sin(pi*re(p))*cos(\\psi)*re((-1)**(I*im(p))*(-1)**re(p)) - \\kappa**2*sin(\\theta)*sin(pi*re(p))*cos(\\psi + 2*\\theta)*re((-1)**(I*im(p))*(-1)**re(p)) + \\kappa**2*sin(\\theta)*sin(\\psi + 2*\\theta)*cos(pi*re(p))*re((-1)**(I*im(p))*(-1)**re(p)) - \\kappa**2*sin(\\theta)*cos(\\psi)*cos(pi*re(p))*im((-1)**(I*im(p))*(-1)**re(p)) + \\kappa**2*sin(\\theta)*cos(pi*re(p))*cos(\\psi + 2*\\theta)*im((-1)**(I*im(p))*(-1)**re(p)))/(-2*pi*p*sin(pi*re(p))**2*sinh(pi*im(p)) + 2*pi*p*sin(pi*re(p))**2*cosh(pi*im(p)) - 2*pi*p*cos(pi*re(p))**2*sinh(pi*im(p)) + 2*pi*p*cos(pi*re(p))**2*cosh(pi*im(p)) + pi*sin(pi*re(p))**2*sinh(pi*im(p)) - pi*sin(pi*re(p))**2*cosh(pi*im(p)) + pi*cos(pi*re(p))**2*sinh(pi*im(p)) - pi*cos(pi*re(p))**2*cosh(pi*im(p)))}"
      ]
     },
     "execution_count": 70,
     "metadata": {},
     "output_type": "execute_result"
    }
   ],
   "source": [
    "Qm_simple_cases"
   ]
  },
  {
   "cell_type": "markdown",
   "metadata": {},
   "source": [
    "## numerical solution notch port"
   ]
  },
  {
   "cell_type": "code",
   "execution_count": null,
   "metadata": {
    "scrolled": true
   },
   "outputs": [
    {
     "name": "stdout",
     "output_type": "stream",
     "text": [
      "[0j, (4+0j), (11+0j), (15+0j), (16+0j), (24+0j), (40+0j), (48+0j)]\n"
     ]
    }
   ],
   "source": [
    "# numerical comparison: l_o+l_c+l_s=5mm on ε=11.45 silicon\n",
    "# coupler length: l_c=0.4 mm\n",
    "# CPW w: 16 um, s: 7 um\n",
    "# resonator w: 8 um, s: 4 um\n",
    "# w3: scan\n",
    "from scipy.optimize import minimize_scalar\n",
    "\n",
    "w3_range = np.asarray(np.linspace(1, 20, 20).tolist())\n",
    "fr_tl_numeric = np.zeros(w3_range.shape)\n",
    "Q_tl_numeric = np.zeros(w3_range.shape)\n",
    "fr_tl_analytic = np.zeros(w3_range.shape)\n",
    "Q_tl_analytic = np.zeros(w3_range.shape)\n",
    "\n",
    "for w3_id, w3 in enumerate(w3_range):\n",
    "    cpw_c = coplanar_coupler.coplanar_coupler()\n",
    "    cpw_c.w1 = 16\n",
    "    cpw_c.w2 = 7\n",
    "    cpw_c.w3 = w3\n",
    "    cpw_c.s1 = 8\n",
    "    cpw_c.s2 = 4\n",
    "    cpw_c.epsilon_eff = 6.225\n",
    "\n",
    "    Cl, Ll, Zl = cpw_c.coupling_matrices(mode='notch')\n",
    "    gamma_numerical = np.sqrt(np.linalg.det(Zl)/(Zl[0,0]*Zl[1,1]))\n",
    "    kappa_numerical = Zl[0,1]/(np.sqrt(Zl[0,0]*Zl[1,1])*gamma_numerical)\n",
    "    Z1_numerical = Zl[0,0]/gamma_numerical\n",
    "    Z2_numerical = Zl[1,1]/gamma_numerical\n",
    "    print (Z1_numerical, Z2_numerical, gamma_numerical, kappa_numerical)\n",
    "    print ('Ll:\\n', Ll)\n",
    "    print ('Cl:\\n', Cl)\n",
    "\n",
    "    substitutions = {c_l: scipy.constants.c/np.sqrt(6.225), \\\n",
    "                     Zr: 50.22, \\\n",
    "                     Zo: 48.33, \\\n",
    "                     Zi: 48.33, \\\n",
    "                     Zf: 48.33, \\\n",
    "                     R: 0, \\\n",
    "                     l_o: 1e-3, \\\n",
    "                     l_s: 3.6e-3, \\\n",
    "                     l_f: 0, \\\n",
    "                     Z1: Z1_numerical, \\\n",
    "                     Z2: Z2_numerical, \\\n",
    "                     kappa: kappa_numerical, \\\n",
    "                     C_c: 0,\\\n",
    "                     l_c: 400e-6}\n",
    "\n",
    "    M_numerical = sympy.Matrix(boundary_problem)\n",
    "    for i in range(boundary_problem.shape[0]):\n",
    "        for j in range(boundary_problem.shape[1]):\n",
    "            M_numerical[i,j] = M_numerical[i,j].subs(substitutions)\n",
    "        \n",
    "    def equation(om_re_val, om_im_val):\n",
    "        M_numpy = np.zeros(M_numerical.shape, dtype=np.complex)\n",
    "        for i in range(boundary_problem.shape[0]):\n",
    "            for j in range(boundary_problem.shape[1]):\n",
    "                M_numpy[i,j] = M_numerical[i,j].subs({omega:(om_re_val+1j*om_im_val)})\n",
    "           \n",
    "        determinant = np.linalg.det(M_numpy)\n",
    "        return (determinant.real, determinant.imag)\n",
    "\n",
    "    scale = np.asarray((2*np.pi*6e9, 1e6))\n",
    "    solution = scipy.optimize.fsolve(lambda x: equation(*(x*scale)), (1,1))*scale\n",
    "    fr_numeric_num = solution[0]/np.pi/2.\n",
    "    Q_numeric_num = -solution[0]/(2*solution[1])\n",
    "\n",
    "    print('full numeric frequency, GHz: ', np.abs(solution[0]/np.pi/2./1e9), ', Q: ', -solution[0]/(2*solution[1]))\n",
    "\n",
    "    lambda_inv_subs = {k_r:1/(l_o+l_c+l_s), _l_f:0, _l_c:l_c/(l_o+l_c+l_s), _l_o:l_o/(l_o+l_c+l_s), _l_s:l_s/(l_s+l_c+l_o)}\n",
    "    corr_analyt_num = pole_correction_nof.xreplace(inv_ang_subs).xreplace(lambda_inv_subs).xreplace({Zo:Z1,Zi:Z1,Zf:Z1}).xreplace(substitutions).xreplace({n:1}).evalf()\n",
    "    freq_analyt_num = zeroth_order_solution.xreplace(substitutions).xreplace({n:1}).evalf()\n",
    "    pole_analyt_num = sympy.lambdify((), freq_analyt_num-corr_analyt_num)()\n",
    "    fr_analyt_num = np.real((pole_analyt_num)/(2*np.pi))\n",
    "    Q_analyt_num = np.real(pole_analyt_num)/(2*np.imag(pole_analyt_num))\n",
    "    print ('analytic frequency, GHz: ', fr_analyt_num/1e9, ', Q: ', -Q_analyt_num)\n",
    "    \n",
    "    # simplified analytic (matched)\n",
    "    corr_simp_num = df_simple_cases['mm'].xreplace(inv_ang_subs).xreplace(lambda_inv_subs)\n",
    "    Q_simp_num = Q_simple_cases['mm'].xreplace(inv_ang_subs).xreplace(lambda_inv_subs)\n",
    "    fr_simp_num = sympy.lambdify((), (freq_analyt_num/2/np.pi+corr_simp_num).xreplace(substitutions).xreplace({sympy.Symbol('p'):1, n:1}).evalf())()\n",
    "    Q_simp_num = sympy.lambdify((), Q_simp_num.xreplace(substitutions).xreplace({Zf:Z1}).xreplace({sympy.Symbol('p'):1, n:1}).evalf())()\n",
    "    print ('simplified analytic frequency, GHz: ', fr_simp_num/1e9, ', Q: ', -Q_simp_num)\n",
    "    \n",
    "    fr_tl_analytic[w3_id] = fr_simp_num\n",
    "    Q_tl_analytic[w3_id] = -Q_simp_num\n",
    "    fr_tl_numeric[w3_id] = fr_numeric_num\n",
    "    Q_tl_numeric[w3_id] = Q_numeric_num"
   ]
  },
  {
   "cell_type": "markdown",
   "metadata": {},
   "source": [
    "# Save simulation results to file"
   ]
  },
  {
   "cell_type": "code",
   "execution_count": 99,
   "metadata": {
    "collapsed": true
   },
   "outputs": [],
   "source": [
    "import pandas as pd\n",
    "columns = {'w_3':w3_range.astype(int), \\\n",
    "          'f_r analytic': fr_tl_analytic, \\\n",
    "          'Q analytic': Q_tl_analytic, \\\n",
    "          'f_r numeric': fr_tl_numeric, \\\n",
    "          'Q numeric': Q_tl_numeric, }\n",
    "sim_tl = pd.concat([pd.Series(v, name=k, index=w3_range.astype(int)) for k,v in columns.items()], axis=1)\n",
    "#butt_fig5_sim_res = np.hstack([fr_tl_analytic, Q_tl_analytic, fr_tl_numeric, Q_tl_numeric])\n",
    "sim_tl.to_csv('coupling_paper/tl_notch_fig5.csv', index=False)"
   ]
  },
  {
   "cell_type": "markdown",
   "metadata": {},
   "source": [
    "# load simulation results (HFSS) and analytic"
   ]
  },
  {
   "cell_type": "code",
   "execution_count": 107,
   "metadata": {
    "collapsed": true
   },
   "outputs": [],
   "source": [
    "import pandas as pd\n",
    "sim_tl = pd.read_csv('coupling_paper/tl_notch_fig5.csv').set_index('w_3')\n",
    "sim_hfss = pd.read_csv('coupling_paper/notch_port_hfss.csv').set_index('w_3')\n",
    "sim_compare = pd.concat([sim_hfss, sim_tl], axis=1)"
   ]
  },
  {
   "cell_type": "markdown",
   "metadata": {},
   "source": [
    "# comparing TL model with em simulator"
   ]
  },
  {
   "cell_type": "code",
   "execution_count": 108,
   "metadata": {
    "collapsed": true
   },
   "outputs": [],
   "source": [
    "%matplotlib inline"
   ]
  },
  {
   "cell_type": "code",
   "execution_count": 125,
   "metadata": {},
   "outputs": [
    {
     "data": {
      "text/plain": [
       "<matplotlib.legend.Legend at 0xd528358>"
      ]
     },
     "execution_count": 125,
     "metadata": {},
     "output_type": "execute_result"
    },
    {
     "data": {
      "image/png": "[encoded data removed]",
      "text/plain": [
       "<matplotlib.figure.Figure at 0xd3f14e0>"
      ]
     },
     "metadata": {},
     "output_type": "display_data"
    }
   ],
   "source": [
    "figs, axes = plt.subplots(2, sharex=True, figsize=(4,4))\n",
    "left = axes[0]\n",
    "right = axes[1]\n",
    "left.plot(sim_compare.index, sim_compare['f_r analytic']/1e9, color='red', label='TL formula', linewidth=3)\n",
    "left.plot(sim_compare.index, sim_compare['f_r numeric']/1e9, marker='o', color='black', linestyle='None', label='TL numeric')\n",
    "left.plot(sim_compare.index, sim_compare['fr']/1e9, marker='o', color='blue', linestyle='None', label='HFSS')\n",
    "#left.xlabel('$w_3$, $\\mathrm{\\mu m}$')\n",
    "left.grid()\n",
    "\n",
    "left.set_ylabel('$f_r, \\mathrm{GHz}$')\n",
    "right.semilogy(sim_compare.index, sim_compare['Q analytic'], color='red', label='TL perturbative', linewidth=3)\n",
    "right.semilogy(sim_compare.index, sim_compare['Q numeric'], marker='o', color='black', linestyle='None', label='TL numeric')\n",
    "right.semilogy(sim_compare.index, sim_compare['Qc_dia_corr'], marker='o', color='blue', linestyle='None', label='HFSS')\n",
    "right.set_xlabel('$w_3$, $\\mathrm{\\mu m}$')\n",
    "right.set_ylabel('$Q$')\n",
    "right.set_ylim([1e3, 1e5])\n",
    "right.grid()\n",
    "right.grid(which='minor')\n",
    "right.legend(fontsize=10, numpoints=1, loc='lower right')"
   ]
  },
  {
   "cell_type": "markdown",
   "metadata": {},
   "source": [
    "# Optimizing coupler and short length"
   ]
  },
  {
   "cell_type": "code",
   "execution_count": 21,
   "metadata": {},
   "outputs": [
    {
     "name": "stdout",
     "output_type": "stream",
     "text": [
      "coupling kappa:  0.0688308444541 , CPW short end length:  0.00556799651826 m\n"
     ]
    }
   ],
   "source": [
    "#sympy.solve(sympy.Matrix(M).det(), sympy.Symbol('\\\\omega'))\n",
    "\n",
    "target_frequency = 5e9\n",
    "target_Q = 30000\n",
    "\n",
    "target_frequency_complex = 2*np.pi*target_frequency - 1j*target_frequency/target_Q*np.pi\n",
    "#target_frequency_complex = sympy.Symbol('\\\\omega_r')\n",
    "#target_frequency_complex = 6e9*2*np.pi-1j*2*np.pi*0.1e6 \n",
    "\n",
    "Z_feedline = source.Z0\n",
    "\n",
    "substitutions = {c_l: scipy.constants.c/np.sqrt(6.225), \\\n",
    "                 Zr: 50, \\\n",
    "                 Zo: 50, \\\n",
    "                 Zi: 50, \\\n",
    "                 Zf: 50, \\\n",
    "                 C_c: 6e-15, \\\n",
    "                 R: 0, \\\n",
    "                 l_o: 1e-6, \\\n",
    "                 l_f: 0, \\\n",
    "                 Z1: 50, \\\n",
    "                 Z2: 50, \\\n",
    "                 sympy.Symbol('\\\\omega'):target_frequency_complex, \\\n",
    "                 l_c: 400e-6}\n",
    "\n",
    "M_numerical = sympy.Matrix(boundary_problem)\n",
    "for i in range(boundary_problem.shape[0]):\n",
    "    for j in range(boundary_problem.shape[1]):\n",
    "        M_numerical[i,j] = M_numerical[i,j].subs(substitutions)\n",
    "        \n",
    "def equation(M_val, l_s_val):\n",
    "    M_numpy = np.zeros(M_numerical.shape, dtype=np.complex)\n",
    "    for i in range(boundary_problem.shape[0]):\n",
    "        for j in range(boundary_problem.shape[1]):\n",
    "            M_numpy[i,j] = M_numerical[i,j].subs({kappa:M_val, l_s:l_s_val})\n",
    "           \n",
    "    determinant = np.linalg.det(M_numpy)\n",
    "    return (determinant.real, determinant.imag)\n",
    "\n",
    "l_s_0 = (substitutions[c_l]/4.0/(substitutions[sympy.Symbol('\\\\omega')]/(2*np.pi))).real - substitutions[l_o]  - substitutions[l_c]\n",
    "M_0 = 0.1\n",
    "\n",
    "#print (l_s_0)\n",
    "scale = np.asarray((M_0, l_s_0))\n",
    "solution = scipy.optimize.fsolve(lambda x: equation(*(x*scale)), (1,1))*scale\n",
    "M_optimized = np.abs(solution[0])\n",
    "l_s_optimized = solution[1]\n",
    "\n",
    "print('coupling kappa: ', np.abs(solution[0]), ', CPW short end length: ', solution[1], 'm')\n",
    "#print(equation(*(solution)))"
   ]
  },
  {
   "cell_type": "markdown",
   "metadata": {},
   "source": [
    "# Getting cross-section geometry from coupling coefficient "
   ]
  },
  {
   "cell_type": "code",
   "execution_count": null,
   "metadata": {
    "collapsed": true
   },
   "outputs": [],
   "source": [
    "from scipy.optimize import minimize_scalar\n",
    "cpw_c = coplanar_coupler()\n",
    "cpw_c.w1 = 30\n",
    "cpw_c.w2 = 15\n",
    "cpw_c.w3 = 48\n",
    "cpw_c.s1 = 16\n",
    "cpw_c.s2 = 8.5\n",
    "cpw_c.epsilon_eff = 6.225\n",
    "\n",
    "print(cpw_c.coupling_matrices())\n",
    "target_coupling_matrix = np.asarray([[Z1_subs.evalf(subs={Z0:substitutions[Z0], M:M_optimized}), M_optimized], \\\n",
    "                                     [M_optimized, Z2_subs.evalf(subs={Zr:substitutions[Zr], M:M_optimized})]])\n",
    "print (target_coupling_matrix)\n",
    "def Zl_error(w3):\n",
    "    if w3 < np.min([cpw_c.w1, cpw_c.w2, cpw_c.s1, cpw_c.s2])*0.01:\n",
    "        w3 = np.min([cpw_c.w1, cpw_c.w2, cpw_c.s1, cpw_c.s2])*0.01\n",
    "    cpw_c.w3 = w3\n",
    "    Ll, Cl, Zl = cpw_c.coupling_matrices()\n",
    "    coupling_matrix_error_metric = np.sum((Zl-target_coupling_matrix)**2)/np.sum((target_coupling_matrix)**2)\n",
    "    print (w3, Zl, coupling_matrix_error_metric)\n",
    "    return coupling_matrix_error_metric\n",
    "\n",
    "minimize_scalar(Zl_error)"
   ]
  }
 ],
 "metadata": {
  "anaconda-cloud": {},
  "kernelspec": {
   "display_name": "Python 3",
   "language": "python",
   "name": "python3"
  },
  "language_info": {
   "codemirror_mode": {
    "name": "ipython",
    "version": 3
   },
   "file_extension": ".py",
   "mimetype": "text/x-python",
   "name": "python",
   "nbconvert_exporter": "python",
   "pygments_lexer": "ipython3",
   "version": "3.6.9"
  },
  "toc": {
   "base_numbering": 1,
   "nav_menu": {},
   "number_sections": true,
   "sideBar": true,
   "skip_h1_title": false,
   "title_cell": "Table of Contents",
   "title_sidebar": "Contents",
   "toc_cell": false,
   "toc_position": {},
   "toc_section_display": true,
   "toc_window_display": false
  },
  "varInspector": {
   "cols": {
    "lenName": 16,
    "lenType": 16,
    "lenVar": 40
   },
   "kernels_config": {
    "python": {
     "delete_cmd_postfix": "",
     "delete_cmd_prefix": "del ",
     "library": "var_list.py",
     "varRefreshCmd": "print(var_dic_list())"
    },
    "r": {
     "delete_cmd_postfix": ") ",
     "delete_cmd_prefix": "rm(",
     "library": "var_list.r",
     "varRefreshCmd": "cat(var_dic_list()) "
    }
   },
   "position": {
    "height": "816px",
    "left": "1550px",
    "right": "20px",
    "top": "120px",
    "width": "350px"
   },
   "types_to_exclude": [
    "module",
    "function",
    "builtin_function_or_method",
    "instance",
    "_Feature"
   ],
   "window_display": true
  }
 },
 "nbformat": 4,
 "nbformat_minor": 1
}
